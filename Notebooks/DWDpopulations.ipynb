{
 "cells": [
  {
   "cell_type": "markdown",
   "id": "816d154f-0ad3-454b-bd29-116d9ab766ec",
   "metadata": {},
   "source": [
    "# DWD Population Plot\n",
    "Reads LDC galaxy key file and produces plot of DWD number density in GW frequency/amplitude plane, overlaid with LISA and AMIGO sensitivity curves\n"
   ]
  },
  {
   "cell_type": "markdown",
   "id": "df0fe8ac-3f51-4f59-a7b4-bffddf35e454",
   "metadata": {},
   "source": [
    "### Setup"
   ]
  },
  {
   "cell_type": "code",
   "execution_count": null,
   "id": "65d828cd-3a56-4f1a-92f0-89e20c08c0c8",
   "metadata": {},
   "outputs": [],
   "source": [
    "# Import standard libraries\n",
    "import numpy as np\n",
    "import pandas as pd\n",
    "import matplotlib as mpl\n",
    "import matplotlib.cm as cm\n",
    "import matplotlib.pyplot as plt\n",
    "import matplotlib.colors as colors\n",
    "from matplotlib.ticker import FormatStrFormatter\n",
    "import sys\n",
    "from lisacattools import HPhist, convert_ecliptic_to_galactic\n",
    "\n",
    "# import GW Imager libraries\n",
    "sys.path.append('../src/')\n",
    "import constants\n",
    "import metrics\n",
    "import sources\n",
    "import concepts\n",
    "import subsystems\n",
    "import background\n",
    "import falseColorGW\n",
    "\n",
    "# make directory for plots\n",
    "!mkdir -p '../plots/'\n",
    "\n",
    "fontSize = 20\n"
   ]
  },
  {
   "cell_type": "markdown",
   "id": "1f817a61-f965-48e0-9fd9-ead3154590f8",
   "metadata": {},
   "source": [
    "### Read in keyfile and make number density"
   ]
  },
  {
   "cell_type": "code",
   "execution_count": null,
   "id": "db01b07d-922c-452f-bb95-f4d7f9746494",
   "metadata": {},
   "outputs": [],
   "source": [
    "# Load in the GBs from LDC\n",
    "LDCgalaxyFile = **FILENAME**\n",
    "galaxy = pd.read_hdf(LDCgalaxyFile,key='keyfile')\n",
    "galaxy.describe()"
   ]
  },
  {
   "cell_type": "code",
   "execution_count": null,
   "id": "ceb69855-7ce0-4a7d-af60-b555b0df0f94",
   "metadata": {},
   "outputs": [],
   "source": [
    "# Perform 2D histogram in frequency/ampltiude space\n",
    "\n",
    "logf = np.log10(np.array(galaxy['Frequency']))\n",
    "logf_bin_edges = np.linspace(-4.5,-1.5,81)\n",
    "logf_bin_centers = logf_bin_edges[0:-1]+0.5*(logf_bin_edges[1:]-logf_bin_edges[0:-1])\n",
    "bin_fwidth = 10**(logf_bin_edges[1:])-10**(logf_bin_edges[0:-1])\n",
    "\n",
    "logA = np.log10(np.array(galaxy['Amplitude']))\n",
    "logA_bin_edges = np.linspace(-26,-20,101)\n",
    "logA_bin_centers = logA_bin_edges[0:-1]+0.5*(logA_bin_edges[1:]-logA_bin_edges[0:-1])\n",
    "bin_Awidth = 10**(logA_bin_edges[1:])-10**(logA_bin_edges[0:-1])\n",
    "\n",
    "bin_areas = np.outer(bin_fwidth,bin_Awidth)\n",
    "\n",
    "counts,_,_ = np.histogram2d(logf,logA, [logf_bin_edges,logA_bin_edges])\n",
    "\n",
    "DWD_density = np.transpose(counts/bin_areas)"
   ]
  },
  {
   "cell_type": "markdown",
   "id": "3cf14021-b89b-4c77-99c5-cd051d585600",
   "metadata": {},
   "source": [
    "### Detector models"
   ]
  },
  {
   "cell_type": "code",
   "execution_count": null,
   "id": "ab7c6b15-4f24-4d34-9fd7-c80853c8cd27",
   "metadata": {},
   "outputs": [],
   "source": [
    "# Define mission concept\n",
    "lisa = concepts.LISASciRDv1\n",
    "lisa['label']= 'LISA'\n",
    "\n",
    "lisa_bg = background.add2model(lisa)\n",
    "lisa_bg['label'] = 'LISA + foreground'\n",
    "\n",
    "amigo = concepts.AMIGO\n",
    "amigo['label']= 'AMIGO'\n",
    "\n",
    "amigo_bg = background.add2model(amigo)\n",
    "amigo_bg['label'] = 'AMIGO + foreground'\n",
    "\n",
    "logf = np.linspace(-4,0,512)\n",
    "S_lisa = np.log10(np.sqrt(metrics.makeSensitivity(10**logf,lisa)/(4*constants.year)))\n",
    "S_lisa_bg = np.log10(np.sqrt(metrics.makeSensitivity(10**logf,lisa_bg)/(4*constants.year)))\n",
    "S_amigo = np.log10(np.sqrt(metrics.makeSensitivity(10**logf,amigo)/(4*constants.year)))\n",
    "S_amigo_bg = np.log10(np.sqrt(metrics.makeSensitivity(10**logf,amigo_bg)/(4*constants.year)))\n"
   ]
  },
  {
   "cell_type": "markdown",
   "id": "3163d6ff-cf84-4bab-aa79-37686ac85163",
   "metadata": {},
   "source": [
    "### Make the Plot"
   ]
  },
  {
   "cell_type": "code",
   "execution_count": null,
   "id": "348f0d34-6e8e-4060-8285-20d118bf2170",
   "metadata": {},
   "outputs": [],
   "source": [
    "# Make Plot\n",
    "fig = plt.figure(figsize=(14, 10), dpi = 100)\n",
    "ax = plt.axes()\n",
    "\n",
    "\n",
    "#cNorm = colors.LogNorm(vmin=galaxy_detected['CDL'].min(), vmax=galaxy_detected['CDL'].max()) #re-wrapping normalization\n",
    "vmin=10**(np.floor(np.log10(np.min(DWD_density[DWD_density.nonzero()]))))\n",
    "vmax=10**(np.ceil(np.log10(np.max(DWD_density))))\n",
    "cNorm = colors.LogNorm(vmin=vmin,vmax=vmax)\n",
    "\n",
    "scalarMap = cm.ScalarMappable(norm=cNorm, cmap=plt.cm.get_cmap('plasma'))\n",
    "\n",
    "ax.pcolormesh(logf_bin_centers,logA_bin_centers,np.log10(DWD_density),cmap='plasma',label='DWD density')\n",
    "#ax.set_yscale('log')\n",
    "#ax.set_xscale('log')\n",
    "ax.set_xlim([-4.5,-1.5])\n",
    "ax.set_ylim([-26,-20])\n",
    "ax.grid()\n",
    "\n",
    "\n",
    "def format_func(value, tick_number):\n",
    "    return (r\"$10^{%g}$\" % value)\n",
    "\n",
    "ax.set_xticks([-4,-3,-2])\n",
    "ax.set_yticks([-25,-23,-21])\n",
    "\n",
    "ax.xaxis.set_major_formatter(plt.FuncFormatter(format_func))\n",
    "ax.yaxis.set_major_formatter(plt.FuncFormatter(format_func))\n",
    "ax.tick_params(axis = 'both', which = 'major', labelsize = fontSize)\n",
    "\n",
    "plt.xlabel('Frequency [Hz]',fontsize=fontSize)\n",
    "plt.xticks(fontsize=fontSize)\n",
    "plt.ylabel('Strain Amplitude',fontsize=fontSize)\n",
    "plt.yticks(fontsize=fontSize)\n",
    "\n",
    "ax.plot(logf,S_lisa, color='k',linestyle = '--',label=lisa['label'])\n",
    "ax.plot(logf,S_lisa_bg, color='k',linestyle = '-',label=lisa_bg['label'])\n",
    "ax.plot(logf,S_amigo, color='gray',linestyle = '--',label=amigo['label'])\n",
    "ax.plot(logf,S_amigo_bg, color='gray',linestyle = '-',label=amigo_bg['label'])\n",
    "\n",
    "ax.legend(fontsize=fontSize,framealpha=0.9,loc='lower right')\n",
    "\n",
    "\n",
    "cbar = fig.colorbar(scalarMap)\n",
    "cbar.set_label('DWD density [Hz$^{-1}$]',fontsize=fontSize)\n",
    "cbar.ax.tick_params(labelsize=fontSize)\n",
    "\n",
    "fig.savefig('../plots/DWDdensity.png')"
   ]
  }
 ],
 "metadata": {
  "kernelspec": {
   "display_name": "Python 3",
   "language": "python",
   "name": "python3"
  },
  "language_info": {
   "codemirror_mode": {
    "name": "ipython",
    "version": 3
   },
   "file_extension": ".py",
   "mimetype": "text/x-python",
   "name": "python",
   "nbconvert_exporter": "python",
   "pygments_lexer": "ipython3",
   "version": "3.9.2"
  }
 },
 "nbformat": 4,
 "nbformat_minor": 5
}
