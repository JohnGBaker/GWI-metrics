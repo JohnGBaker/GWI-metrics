{
 "cells": [
  {
   "cell_type": "markdown",
   "metadata": {},
   "source": [
    "# Targets Assessor\n",
    "This notebook aims to injest a list of source descriptions and observation criteria from the STM effort, applying appropriate metric tools to assess against the critera for a list of mission concept descriptions.\n",
    "\n",
    "To run this on Google Colab:\n",
    "[![Open In Colab](https://colab.research.google.com/assets/colab-badge.svg)](https://colab.research.google.com/github/JohnGBaker/GWI-metrics/blob/main/Notebooks/binaryResolutionSources.ipynb)\n",
    "\n",
    "### Some basic setup"
   ]
  },
  {
   "cell_type": "code",
   "execution_count": 1,
   "metadata": {},
   "outputs": [],
   "source": [
    "if 'google.colab' in str(get_ipython()):\n",
    "    !git clone https://github.com/JohnGBaker/GWI-metrics.git\n",
    "    src='GWI-metrics/src/'\n",
    "else:\n",
    "    src='../src/'\n",
    "!mkdir -p '../plots/'\n",
    "\n",
    "# Import\n",
    "import numpy as np\n",
    "import matplotlib.pyplot as plt\n",
    "import sys\n",
    "sys.path.append(src)\n",
    "import constants\n",
    "import metrics\n",
    "import sources\n",
    "import concepts\n",
    "import subsystems\n",
    "import background\n",
    "import pandas as pd\n",
    "from glob import glob\n",
    "import re\n",
    "from astropy.coordinates import Angle\n",
    "from astropy.cosmology import WMAP9 as cosmo\n",
    "from astropy import units as u"
   ]
  },
  {
   "cell_type": "markdown",
   "metadata": {},
   "source": [
    "### Edit target info:"
   ]
  },
  {
   "cell_type": "code",
   "execution_count": 2,
   "metadata": {},
   "outputs": [],
   "source": [
    "m1,m2=1e6,1e4\n",
    "z=8.0\n",
    "#give f0 value if not a chirp\n",
    "f0=None\n",
    "#optional specification of end of observation\n",
    "timecut=None\n",
    "#observation targets\n",
    "res_req_arcsec=2.0\n",
    "SNR_req=10"
   ]
  },
  {
   "cell_type": "markdown",
   "metadata": {},
   "source": [
    "### Define the set of concepts\n",
    "Here we load in a set of the pre-defined concepts, or you can define your own"
   ]
  },
  {
   "cell_type": "code",
   "execution_count": 3,
   "metadata": {},
   "outputs": [],
   "source": [
    "missionNames = (\n",
    "    'LISACBE',\n",
    "    'LISASciRDv1',\n",
    "    'TwinLISA',\n",
    "    'LISAGrande',\n",
    "    'LISAU',\n",
    "    'GoBIGLISA',\n",
    "    'ALIA',\n",
    "    'ALIAlowL')\n",
    "missions=[concepts.menu[mission] for mission in missionNames]\n",
    "\n",
    "for mission in missions:\n",
    "    mission=background.add2model(mission)\n",
    "#model = concepts.LISACBE.copy()\n",
    "#modelName = model.get('label')\n",
    "#model = background.add2model(model)     # add galactic background model"
   ]
  },
  {
   "cell_type": "code",
   "execution_count": 4,
   "metadata": {},
   "outputs": [],
   "source": [
    "# make source dictionary\n",
    "objectiveList=[]\n",
    "minimumSNR=5\n",
    "obj={}\n",
    "obj['label']='your source'\n",
    "obj['m1']=m1*(1+z)#convert to redshifted mass\n",
    "obj['m2']=m2*(1+z)#convert to redshifted mass\n",
    "dist=cosmo.luminosity_distance(z).to(u.kpc).value\n",
    "obj['dl']=dist\n",
    "if f0 is None: \n",
    "    obj['type']='chirp'\n",
    "    if timecut is not None and np.isfinite(timecut):\n",
    "        obj['timecut']=timecut\n",
    "else: \n",
    "    obj['type']='CW'\n",
    "    obj['f0']=row['f0']\n",
    "\n",
    "#Now add the conditions\n",
    "conditions={}\n",
    "if res_req_arcsec is not None and np.isfinite(res_req_arcsec):\n",
    "    conditions['resolution']=res_req_arcsec/3600/180*np.pi #convert arcsec to rad\n",
    "snr=minimumSNR\n",
    "if SNR_req is not None and np.isfinite(SNR_req): snr=max([minimumSNR,SNR_req])\n",
    "conditions['SNR']=snr\n",
    "obj['conditions']=conditions\n",
    "objectiveList.append(obj)\n",
    "    "
   ]
  },
  {
   "cell_type": "markdown",
   "metadata": {},
   "source": [
    "### Perform the observations and assessment\n",
    "We first compute the SNR and then the angular resolution"
   ]
  },
  {
   "cell_type": "code",
   "execution_count": 5,
   "metadata": {},
   "outputs": [
    {
     "name": "stdout",
     "output_type": "stream",
     "text": [
      "QE: 0.8156855160078964\n",
      "P_Rx: 8.444165217362159e-10\n",
      "sqSn_shot: 2.764880922798791e-12\n",
      "QE: 0.8156855160078964\n",
      "P_Rx: 8.444165217362159e-10\n",
      "sqSn_shot: 2.764880922798791e-12\n",
      "{'resolution': 9.69627362219072e-06, 'SNR': 10}\n",
      "{'resolution': 9.69627362219072e-06, 'SNR': 10}\n",
      "QE: 0.8156855160078964\n",
      "P_Rx: 8.444165217362159e-10\n",
      "sqSn_shot: 2.764880922798791e-12\n",
      "QE: 0.8156855160078964\n",
      "P_Rx: 8.444165217362159e-10\n",
      "sqSn_shot: 2.764880922798791e-12\n",
      "{'resolution': 9.69627362219072e-06, 'SNR': 10}\n",
      "QE: 0.8156855160078964\n",
      "P_Rx: 1.3031119162595927e-10\n",
      "sqSn_shot: 7.038237778863639e-12\n",
      "QE: 0.8156855160078964\n",
      "P_Rx: 1.3031119162595927e-10\n",
      "sqSn_shot: 7.038237778863639e-12\n",
      "{'resolution': 9.69627362219072e-06, 'SNR': 10}\n",
      "QE: 0.5599286380854205\n",
      "P_Rx: 9.083534705280001e-12\n",
      "sqSn_shot: 3.883447365388777e-11\n",
      "QE: 0.5599286380854205\n",
      "P_Rx: 9.083534705280001e-12\n",
      "sqSn_shot: 3.883447365388777e-11\n",
      "{'resolution': 9.69627362219072e-06, 'SNR': 10}\n",
      "QE: 0.5599286380854205\n",
      "P_Rx: 9.947560526446235e-11\n",
      "sqSn_shot: 1.1735093873706993e-11\n",
      "QE: 0.5599286380854205\n",
      "P_Rx: 9.947560526446235e-11\n",
      "sqSn_shot: 1.1735093873706993e-11\n",
      "{'resolution': 9.69627362219072e-06, 'SNR': 10}\n",
      "{'resolution': 9.69627362219072e-06, 'SNR': 10}\n",
      "QE: 0.8156855160078964\n",
      "P_Rx: 1.737482555012791e-05\n",
      "sqSn_shot: 1.927500798284336e-14\n",
      "QE: 0.8156855160078964\n",
      "P_Rx: 1.737482555012791e-05\n",
      "sqSn_shot: 1.927500798284336e-14\n",
      "{'resolution': 9.69627362219072e-06, 'SNR': 10}\n"
     ]
    }
   ],
   "source": [
    "\n",
    "for mission in missions:\n",
    "    obs = list()\n",
    "    for s in objectiveList:\n",
    "        ob = metrics.getSourceSnr(s,mission,-4.0*constants.year)\n",
    "        ob = metrics.getResolution(ob)\n",
    "        #Perform the assessment\n",
    "        #The assessment is based on the ratio of the estimated capability to the objective for each of\n",
    "        #resolution and SNR, with <=1 meaning that the objective is met\n",
    "        #A total is based on the worst of those present\n",
    "        conditions=s['conditions']\n",
    "        assessment={}\n",
    "        alleps=[]\n",
    "        print(conditions)\n",
    "        if 'SNR' in conditions:\n",
    "            eps=conditions['SNR']/ob['SNR']\n",
    "            assessment['eps_SNR']=eps\n",
    "            alleps.append(eps)\n",
    "        if 'resolution' in conditions:\n",
    "            eps=ob['Angular Resolution'][-1]/conditions['resolution']\n",
    "            #print(ob['Angular Resolution'][-1],conditions['resolution'],eps)\n",
    "            assessment['eps_res']=eps\n",
    "            alleps.append(eps)\n",
    "        #print('alleps',alleps)\n",
    "        if len(alleps)>0: assessment['eps']=max(alleps)\n",
    "        ob['assessment']=assessment    \n",
    "        obs.append(ob)\n",
    "        \n",
    "    mission['obs']=obs\n",
    "    \n"
   ]
  },
  {
   "cell_type": "markdown",
   "metadata": {},
   "source": [
    "### Show assessments"
   ]
  },
  {
   "cell_type": "code",
   "execution_count": 6,
   "metadata": {
    "scrolled": true
   },
   "outputs": [
    {
     "data": {
      "text/html": [
       "<style type=\"text/css\">\n",
       "#T_94a76_row0_col0, #T_94a76_row0_col1, #T_94a76_row0_col2, #T_94a76_row0_col3, #T_94a76_row0_col4, #T_94a76_row0_col6, #T_94a76_row0_col7 {\n",
       "  background-color: #a50026;\n",
       "  color: #f1f1f1;\n",
       "  max-width: 120px;\n",
       "  font-size: 10pt;\n",
       "}\n",
       "#T_94a76_row0_col5 {\n",
       "  background-color: #b10b26;\n",
       "  color: #f1f1f1;\n",
       "  max-width: 120px;\n",
       "  font-size: 10pt;\n",
       "}\n",
       "</style>\n",
       "<table id=\"T_94a76_\">\n",
       "  <caption>Net performance</caption>\n",
       "  <thead>\n",
       "    <tr>\n",
       "      <th class=\"blank level0\" >&nbsp;</th>\n",
       "      <th class=\"col_heading level0 col0\" >LISACBE</th>\n",
       "      <th class=\"col_heading level0 col1\" >LISASciRDv1</th>\n",
       "      <th class=\"col_heading level0 col2\" >TwinLISA</th>\n",
       "      <th class=\"col_heading level0 col3\" >LISAGrande</th>\n",
       "      <th class=\"col_heading level0 col4\" >LISAU</th>\n",
       "      <th class=\"col_heading level0 col5\" >GoBIGLISA</th>\n",
       "      <th class=\"col_heading level0 col6\" >ALIA</th>\n",
       "      <th class=\"col_heading level0 col7\" >ALIAlowL</th>\n",
       "    </tr>\n",
       "  </thead>\n",
       "  <tbody>\n",
       "    <tr>\n",
       "      <th id=\"T_94a76_level0_row0\" class=\"row_heading level0 row0\" >your target</th>\n",
       "      <td id=\"T_94a76_row0_col0\" class=\"data row0 col0\" >3493.172521</td>\n",
       "      <td id=\"T_94a76_row0_col1\" class=\"data row0 col1\" >3741.546303</td>\n",
       "      <td id=\"T_94a76_row0_col2\" class=\"data row0 col2\" >571.492446</td>\n",
       "      <td id=\"T_94a76_row0_col3\" class=\"data row0 col3\" >216.243482</td>\n",
       "      <td id=\"T_94a76_row0_col4\" class=\"data row0 col4\" >16.496547</td>\n",
       "      <td id=\"T_94a76_row0_col5\" class=\"data row0 col5\" >9.740799</td>\n",
       "      <td id=\"T_94a76_row0_col6\" class=\"data row0 col6\" >3691.477967</td>\n",
       "      <td id=\"T_94a76_row0_col7\" class=\"data row0 col7\" >3732.248759</td>\n",
       "    </tr>\n",
       "  </tbody>\n",
       "</table>\n"
      ],
      "text/plain": [
       "<pandas.io.formats.style.Styler at 0x7fd1497e5790>"
      ]
     },
     "metadata": {},
     "output_type": "display_data"
    }
   ],
   "source": [
    "#Make a dataframe with the results\n",
    "objectiveNames=['your target']\n",
    "data=np.zeros((len(obs),len(missions)))\n",
    "for i,mission in enumerate(missions):\n",
    "    for j,ob in enumerate(mission['obs']):\n",
    "        #print(missionNames[i],objectiveNames[j],ob['assessment'])\n",
    "        data[j,i]=ob['assessment'].get('eps',None)\n",
    "\n",
    "adf = pd.DataFrame(data,\n",
    "                  index=objectiveNames,\n",
    "                  columns=missionNames)\n",
    "#adf=adf.dropna()\n",
    "def shrink():\n",
    "    return [dict(selector=\"th\",\n",
    "                 props=[(\"font-size\", \"6pt\")]),\n",
    "            dict(selector=\"td\",\n",
    "                 props=[('padding', \"0em 0em\")])\n",
    "]\n",
    "def zoom():\n",
    "    return [\n",
    "            dict(selector=\"th:hover\",\n",
    "                 props=[(\"font-size\", \"12pt\")]),\n",
    "            dict(selector=\"tr:hover td:hover\",\n",
    "                 props=[('max-width', '200px'),\n",
    "                        ('font-size', '12pt')])\n",
    "]\n",
    "s=adf.style.background_gradient(vmin=0.1,vmax=10,cmap='RdYlGn_r').set_properties(**{'max-width': '120px', 'font-size': '10pt'})\n",
    "s=s.set_caption(\"Net performance\")\n",
    "#s=s.set_table_styles(shrink())\n",
    "#s=s.set_table_styles(shrink()+zoom())\n",
    "\n",
    "display(s)"
   ]
  },
  {
   "cell_type": "code",
   "execution_count": 7,
   "metadata": {},
   "outputs": [
    {
     "data": {
      "text/html": [
       "<style type=\"text/css\">\n",
       "#T_40f3f_row0_col0, #T_40f3f_row0_col1, #T_40f3f_row0_col2, #T_40f3f_row0_col3, #T_40f3f_row0_col4, #T_40f3f_row0_col6, #T_40f3f_row0_col7 {\n",
       "  background-color: #a50026;\n",
       "  color: #f1f1f1;\n",
       "  max-width: 120px;\n",
       "  font-size: 10pt;\n",
       "}\n",
       "#T_40f3f_row0_col5 {\n",
       "  background-color: #b10b26;\n",
       "  color: #f1f1f1;\n",
       "  max-width: 120px;\n",
       "  font-size: 10pt;\n",
       "}\n",
       "</style>\n",
       "<table id=\"T_40f3f_\">\n",
       "  <caption>Resolution performance</caption>\n",
       "  <thead>\n",
       "    <tr>\n",
       "      <th class=\"blank level0\" >&nbsp;</th>\n",
       "      <th class=\"col_heading level0 col0\" >LISACBE</th>\n",
       "      <th class=\"col_heading level0 col1\" >LISASciRDv1</th>\n",
       "      <th class=\"col_heading level0 col2\" >TwinLISA</th>\n",
       "      <th class=\"col_heading level0 col3\" >LISAGrande</th>\n",
       "      <th class=\"col_heading level0 col4\" >LISAU</th>\n",
       "      <th class=\"col_heading level0 col5\" >GoBIGLISA</th>\n",
       "      <th class=\"col_heading level0 col6\" >ALIA</th>\n",
       "      <th class=\"col_heading level0 col7\" >ALIAlowL</th>\n",
       "    </tr>\n",
       "  </thead>\n",
       "  <tbody>\n",
       "    <tr>\n",
       "      <th id=\"T_40f3f_level0_row0\" class=\"row_heading level0 row0\" >your target</th>\n",
       "      <td id=\"T_40f3f_row0_col0\" class=\"data row0 col0\" >3493.172521</td>\n",
       "      <td id=\"T_40f3f_row0_col1\" class=\"data row0 col1\" >3741.546303</td>\n",
       "      <td id=\"T_40f3f_row0_col2\" class=\"data row0 col2\" >571.492446</td>\n",
       "      <td id=\"T_40f3f_row0_col3\" class=\"data row0 col3\" >216.243482</td>\n",
       "      <td id=\"T_40f3f_row0_col4\" class=\"data row0 col4\" >16.496547</td>\n",
       "      <td id=\"T_40f3f_row0_col5\" class=\"data row0 col5\" >9.740799</td>\n",
       "      <td id=\"T_40f3f_row0_col6\" class=\"data row0 col6\" >3691.477967</td>\n",
       "      <td id=\"T_40f3f_row0_col7\" class=\"data row0 col7\" >3732.248759</td>\n",
       "    </tr>\n",
       "  </tbody>\n",
       "</table>\n"
      ],
      "text/plain": [
       "<pandas.io.formats.style.Styler at 0x7fd1981542e0>"
      ]
     },
     "metadata": {},
     "output_type": "display_data"
    }
   ],
   "source": [
    "#Make a dataframe with the results\n",
    "objectiveNames=['your target']\n",
    "data=np.zeros((len(obs),len(missions)))\n",
    "for i,mission in enumerate(missions):\n",
    "    for j,ob in enumerate(mission['obs']):\n",
    "        #print(missionNames[i],objectiveNames[j],ob['assessment'])\n",
    "        data[j,i]=ob['assessment'].get('eps_res',None)\n",
    "\n",
    "adf = pd.DataFrame(data,\n",
    "                  index=objectiveNames,\n",
    "                  columns=missionNames)\n",
    "s=adf.style.background_gradient(vmin=0.1,vmax=10,cmap='RdYlGn_r').set_properties(**{'max-width': '120px', 'font-size': '10pt'})\n",
    "#s=s.set_table_styles(shrink())\n",
    "#s=s.set_table_styles(shrink()+zoom())\n",
    "s=s.set_caption(\"Resolution performance\")\n",
    "display(s)"
   ]
  },
  {
   "cell_type": "markdown",
   "metadata": {},
   "source": [
    "### Make some plots"
   ]
  },
  {
   "cell_type": "markdown",
   "metadata": {},
   "source": [
    "#### Plot sensitivity curves and waveform\n",
    "Here we scale the waveform by delta-f, which is probably not quite right"
   ]
  },
  {
   "cell_type": "code",
   "execution_count": null,
   "metadata": {},
   "outputs": [
    {
     "name": "stdout",
     "output_type": "stream",
     "text": [
      "QE: 0.8156855160078964\n",
      "P_Rx: 8.444165217362159e-10\n",
      "sqSn_shot: 2.764880922798791e-12\n",
      "QE: 0.8156855160078964\n",
      "P_Rx: 8.444165217362159e-10\n",
      "sqSn_shot: 2.764880922798791e-12\n",
      "QE: 0.8156855160078964\n",
      "P_Rx: 1.3031119162595927e-10\n",
      "sqSn_shot: 7.038237778863639e-12\n",
      "QE: 0.5599286380854205\n",
      "P_Rx: 9.083534705280001e-12\n",
      "sqSn_shot: 3.883447365388777e-11\n",
      "QE: 0.5599286380854205\n",
      "P_Rx: 9.947560526446235e-11\n",
      "sqSn_shot: 1.1735093873706993e-11\n",
      "QE: 0.8156855160078964\n",
      "P_Rx: 1.737482555012791e-05\n",
      "sqSn_shot: 1.927500798284336e-14\n"
     ]
    }
   ],
   "source": [
    "# sensitivity plot\n",
    "#fig = plt.figure(figsize=(6,4),dpi=200)\n",
    "f = np.logspace(-5,0,1000)\n",
    "fig,axs=plt.subplots(len(missions),figsize=(6,4*len(missions)))\n",
    "for i,mission in enumerate(missions):\n",
    "    ax = axs[i]\n",
    "    for ob in mission['obs']:\n",
    "        if ob['source']['type']=='CW':continue\n",
    "        if ob['assessment'].get('eps',10)>1:continue\n",
    "        ax.plot(ob.get('f')[1:],np.abs(ob.get('h')[1:]**2)*np.diff(ob.get('f')),linestyle='-',label=ob.get('source').get('label'))\n",
    "    \n",
    "    ax.plot(f,metrics.makeSensitivity(f,mission),color = 'black', linewidth=2.0,linestyle='--',label='sensitivity')\n",
    "    ax.set_title(mission['label'])\n",
    "    ax.set_xscale('log')\n",
    "    ax.set_yscale('log')\n",
    "    ax.legend()\n",
    "    ax.grid(True)\n",
    "\n",
    "plt.xlabel(r'Frequency [Hz]')\n",
    "plt.ylabel(r'Strain PSD [Hz$^{-1}$]')\n",
    "plt.subplots_adjust()\n",
    "plt.savefig('../plots/%s_source_sensitvities.png' % 'all')"
   ]
  },
  {
   "cell_type": "markdown",
   "metadata": {},
   "source": [
    "# Stuff from below here could be adapted from binaryResolutionSources, but has not been."
   ]
  },
  {
   "cell_type": "markdown",
   "metadata": {},
   "source": [
    "#### SNR as a function of time plot"
   ]
  },
  {
   "cell_type": "code",
   "execution_count": null,
   "metadata": {},
   "outputs": [],
   "source": [
    "# SNR of time plot\n",
    "fig = plt.figure(figsize=(6,4),dpi=200)\n",
    "#ax = fig.add_subplot(1,1,1)\n",
    "fig,axs=plt.subplots(len(missions),figsize=(6,4*len(missions)))\n",
    "haveL=False\n",
    "for i,mission in enumerate(missions):\n",
    "    ax = axs[i]\n",
    "    for ob in mission['obs']:\n",
    "        if ob['source']['type']=='CW':continue\n",
    "        if ob['assessment'].get('eps',10)>1:continue\n",
    "        ax.plot(-ob.get('t')*52/constants.year,ob.get('SNR of t'),linestyle='-',label=ob.get('source').get('label'))\n",
    "        ax.set_title(mission['label'])\n",
    "        ax.set_xscale('linear')\n",
    "        ax.set_yscale('log')\n",
    "    if not haveL:\n",
    "        ax.legend()\n",
    "        haveL=True\n",
    "#print(obs)\n",
    "#plt.xlim([-ob.get('t')[0]*52/constants.year+4,-4])\n",
    "#plt.title(ob.get('source').get('label'))\n",
    "plt.xlabel('Time to merger [wks]')\n",
    "plt.ylabel(r'SNR')\n",
    "plt.subplots_adjust()\n",
    "#plt.legend()\n",
    "ax.grid(True)\n",
    "#plt.savefig('../plots/%s_snr_v_t.png' % modelName)"
   ]
  },
  {
   "cell_type": "markdown",
   "metadata": {},
   "source": [
    "#### Angular resolution as a function of time"
   ]
  },
  {
   "cell_type": "code",
   "execution_count": null,
   "metadata": {},
   "outputs": [],
   "source": [
    "# Angular resolution\n",
    "# SNR of time plot\n",
    "fig = plt.figure(figsize=(6,4),dpi=200)\n",
    "#ax = fig.add_subplot(1,1,1)\n",
    "fig,axs=plt.subplots(len(missions),figsize=(6,4*len(missions)))\n",
    "haveL=False\n",
    "for i,mission in enumerate(missions):\n",
    "    ax = axs[i]\n",
    "    for ob in mission['obs']:\n",
    "        if ob['source']['type']=='CW':continue\n",
    "        if ob['assessment'].get('eps',10)>1:continue\n",
    "        ax.plot(-ob.get('t')*52/constants.year,ob.get('Angular Resolution')*1e3,label= ob.get('source').get('label'))\n",
    "        ax.set_title(mission['label'])\n",
    "        ax.set_xscale('linear')\n",
    "        ax.set_yscale('log')\n",
    "        plt.ylabel('Astrometric Precision [mrad]')\n",
    "    if not haveL:\n",
    "        ax.legend()\n",
    "        haveL=True\n",
    "plt.xlabel('Time to merger [wks]')\n",
    "plt.subplots_adjust()"
   ]
  },
  {
   "cell_type": "code",
   "execution_count": null,
   "metadata": {},
   "outputs": [],
   "source": []
  }
 ],
 "metadata": {
  "kernelspec": {
   "display_name": "Python 3 (ipykernel)",
   "language": "python",
   "name": "python3"
  },
  "language_info": {
   "codemirror_mode": {
    "name": "ipython",
    "version": 3
   },
   "file_extension": ".py",
   "mimetype": "text/x-python",
   "name": "python",
   "nbconvert_exporter": "python",
   "pygments_lexer": "ipython3",
   "version": "3.8.12"
  }
 },
 "nbformat": 4,
 "nbformat_minor": 4
}
