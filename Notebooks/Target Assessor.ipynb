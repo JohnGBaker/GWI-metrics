{
 "cells": [
  {
   "cell_type": "markdown",
   "metadata": {},
   "source": [
    "# Targets Assessor\n",
    "This notebook aims to injest a list of source descriptions and observation criteria from the STM effort, applying appropriate metric tools to assess against the critera for a list of mission concept descriptions.\n",
    "\n",
    "To run this on Google Colab:\n",
    "[![Open In Colab](https://colab.research.google.com/assets/colab-badge.svg)](https://colab.research.google.com/github/JohnGBaker/GWI-metrics/blob/main/Notebooks/binaryResolutionSources.ipynb)\n",
    "\n",
    "### Some basic setup"
   ]
  },
  {
   "cell_type": "code",
   "execution_count": 1,
   "metadata": {},
   "outputs": [],
   "source": [
    "if 'google.colab' in str(get_ipython()):\n",
    "    !git clone https://github.com/JohnGBaker/GWI-metrics.git\n",
    "    src='GWI-metrics/src/'\n",
    "else:\n",
    "    src='../src/'\n",
    "!mkdir -p '../plots/'\n",
    "\n",
    "# Import\n",
    "import numpy as np\n",
    "import matplotlib.pyplot as plt\n",
    "import sys\n",
    "sys.path.append(src)\n",
    "import constants\n",
    "import metrics\n",
    "import sources\n",
    "import concepts\n",
    "import subsystems\n",
    "import background\n",
    "import pandas as pd\n",
    "from glob import glob\n",
    "import re\n",
    "from astropy.coordinates import Angle\n",
    "from astropy.cosmology import WMAP9 as cosmo\n",
    "from astropy import units as u"
   ]
  },
  {
   "cell_type": "markdown",
   "metadata": {},
   "source": [
    "### Edit target info:"
   ]
  },
  {
   "cell_type": "code",
   "execution_count": 2,
   "metadata": {},
   "outputs": [],
   "source": [
    "m1,m2=1e6,1e4\n",
    "z=4.0\n",
    "#give f0 value if not a chirp\n",
    "f0=None\n",
    "#optional specification of end of observation\n",
    "timecut=None\n",
    "#observation targets\n",
    "res_req_arcsec=10.0\n",
    "SNR_req=5"
   ]
  },
  {
   "cell_type": "markdown",
   "metadata": {},
   "source": [
    "### Define the set of concepts\n",
    "Here we load in a set of the pre-defined concepts, or you can define your own"
   ]
  },
  {
   "cell_type": "code",
   "execution_count": 3,
   "metadata": {},
   "outputs": [],
   "source": [
    "missionNames = (\n",
    "    'LISACBE',\n",
    "    'LISASciRDv1',\n",
    "    'TwinLISA',\n",
    "    'LISAGrande',\n",
    "    'LISAU',\n",
    "    'GoBIGLISA',\n",
    "    'ALIA',\n",
    "    'ALIAlowL')\n",
    "missions=[concepts.menu[mission] for mission in missionNames]\n",
    "\n",
    "for mission in missions:\n",
    "    mission=background.add2model(mission)\n",
    "#model = concepts.LISACBE.copy()\n",
    "#modelName = model.get('label')\n",
    "#model = background.add2model(model)     # add galactic background model"
   ]
  },
  {
   "cell_type": "code",
   "execution_count": 4,
   "metadata": {},
   "outputs": [],
   "source": [
    "# make source dictionary\n",
    "objectiveList=[]\n",
    "minimumSNR=5\n",
    "obj={}\n",
    "obj['label']='your source'\n",
    "obj['m1']=m1*(1+z)#convert to redshifted mass\n",
    "obj['m2']=m2*(1+z)#convert to redshifted mass\n",
    "dist=cosmo.luminosity_distance(z).to(u.kpc).value\n",
    "obj['dl']=dist\n",
    "if f0 is None: \n",
    "    obj['type']='chirp'\n",
    "    if timecut is not None and np.isfinite(timecut):\n",
    "        obj['timecut']=timecut\n",
    "else: \n",
    "    obj['type']='CW'\n",
    "    obj['f0']=row['f0']\n",
    "\n",
    "#Now add the conditions\n",
    "conditions={}\n",
    "if res_req_arcsec is not None and np.isfinite(res_req_arcsec):\n",
    "    conditions['resolution']=res_req_arcsec/3600/180*np.pi #convert arcsec to rad\n",
    "snr=minimumSNR\n",
    "if SNR_req is not None and np.isfinite(SNR_req): snr=max([minimumSNR,SNR_req])\n",
    "conditions['SNR']=snr\n",
    "obj['conditions']=conditions\n",
    "objectiveList.append(obj)\n",
    "    "
   ]
  },
  {
   "cell_type": "markdown",
   "metadata": {},
   "source": [
    "### Perform the observations and assessment\n",
    "We first compute the SNR and then the angular resolution"
   ]
  },
  {
   "cell_type": "code",
   "execution_count": 5,
   "metadata": {},
   "outputs": [
    {
     "name": "stdout",
     "output_type": "stream",
     "text": [
      "mtot =  24, eta = 0.0098, ds = 3.8e+18, T = -1.3e+08\n",
      "{'resolution': 4.84813681109536e-05, 'SNR': 5}\n",
      "mtot =  24, eta = 0.0098, ds = 3.8e+18, T = -1.3e+08\n",
      "{'resolution': 4.84813681109536e-05, 'SNR': 5}\n",
      "mtot =  24, eta = 0.0098, ds = 3.8e+18, T = -1.3e+08\n",
      "{'resolution': 4.84813681109536e-05, 'SNR': 5}\n",
      "mtot =  24, eta = 0.0098, ds = 3.8e+18, T = -1.3e+08\n",
      "{'resolution': 4.84813681109536e-05, 'SNR': 5}\n",
      "mtot =  24, eta = 0.0098, ds = 3.8e+18, T = -1.3e+08\n",
      "{'resolution': 4.84813681109536e-05, 'SNR': 5}\n",
      "mtot =  24, eta = 0.0098, ds = 3.8e+18, T = -1.3e+08\n"
     ]
    },
    {
     "ename": "TypeError",
     "evalue": "unsupported operand type(s) for *: 'NoneType' and 'float'",
     "output_type": "error",
     "traceback": [
      "\u001b[0;31m---------------------------------------------------------------------------\u001b[0m",
      "\u001b[0;31mTypeError\u001b[0m                                 Traceback (most recent call last)",
      "\u001b[0;32m/var/folders/x6/0_5snvmj5rj3s1z43y5f3vncf2_rs9/T/ipykernel_60192/1220109148.py\u001b[0m in \u001b[0;36m<module>\u001b[0;34m\u001b[0m\n\u001b[1;32m      3\u001b[0m     \u001b[0;32mfor\u001b[0m \u001b[0ms\u001b[0m \u001b[0;32min\u001b[0m \u001b[0mobjectiveList\u001b[0m\u001b[0;34m:\u001b[0m\u001b[0;34m\u001b[0m\u001b[0;34m\u001b[0m\u001b[0m\n\u001b[1;32m      4\u001b[0m         \u001b[0mob\u001b[0m \u001b[0;34m=\u001b[0m \u001b[0mmetrics\u001b[0m\u001b[0;34m.\u001b[0m\u001b[0mgetSourceSnr\u001b[0m\u001b[0;34m(\u001b[0m\u001b[0ms\u001b[0m\u001b[0;34m,\u001b[0m\u001b[0mmission\u001b[0m\u001b[0;34m,\u001b[0m\u001b[0;34m-\u001b[0m\u001b[0;36m4.0\u001b[0m\u001b[0;34m*\u001b[0m\u001b[0mconstants\u001b[0m\u001b[0;34m.\u001b[0m\u001b[0myear\u001b[0m\u001b[0;34m)\u001b[0m\u001b[0;34m\u001b[0m\u001b[0;34m\u001b[0m\u001b[0m\n\u001b[0;32m----> 5\u001b[0;31m         \u001b[0mob\u001b[0m \u001b[0;34m=\u001b[0m \u001b[0mmetrics\u001b[0m\u001b[0;34m.\u001b[0m\u001b[0mgetResolution\u001b[0m\u001b[0;34m(\u001b[0m\u001b[0mob\u001b[0m\u001b[0;34m)\u001b[0m\u001b[0;34m\u001b[0m\u001b[0;34m\u001b[0m\u001b[0m\n\u001b[0m\u001b[1;32m      6\u001b[0m         \u001b[0;31m#Perform the assessment\u001b[0m\u001b[0;34m\u001b[0m\u001b[0;34m\u001b[0m\u001b[0;34m\u001b[0m\u001b[0m\n\u001b[1;32m      7\u001b[0m         \u001b[0;31m#The assessment is based on the ratio of the estimated capability to the objective for each of\u001b[0m\u001b[0;34m\u001b[0m\u001b[0;34m\u001b[0m\u001b[0;34m\u001b[0m\u001b[0m\n",
      "\u001b[0;32m~/Projects/FGRST/GWImager/GWI-metrics/Notebooks/../src/metrics.py\u001b[0m in \u001b[0;36mgetResolution\u001b[0;34m(obsIn)\u001b[0m\n\u001b[1;32m    351\u001b[0m     \u001b[0;31m# estimate the diffraciton limit\u001b[0m\u001b[0;34m\u001b[0m\u001b[0;34m\u001b[0m\u001b[0;34m\u001b[0m\u001b[0m\n\u001b[1;32m    352\u001b[0m     \u001b[0mlamGW\u001b[0m \u001b[0;34m=\u001b[0m \u001b[0mconstants\u001b[0m\u001b[0;34m.\u001b[0m\u001b[0mc\u001b[0m \u001b[0;34m/\u001b[0m \u001b[0mfsnr2\u001b[0m\u001b[0;34m\u001b[0m\u001b[0;34m\u001b[0m\u001b[0m\n\u001b[0;32m--> 353\u001b[0;31m     \u001b[0mB\u001b[0m \u001b[0;34m=\u001b[0m \u001b[0mgetBaseline\u001b[0m\u001b[0;34m(\u001b[0m\u001b[0mobsOut\u001b[0m\u001b[0;34m.\u001b[0m\u001b[0mget\u001b[0m\u001b[0;34m(\u001b[0m\u001b[0;34m'model'\u001b[0m\u001b[0;34m)\u001b[0m\u001b[0;34m,\u001b[0m\u001b[0mt\u001b[0m\u001b[0;34m,\u001b[0m\u001b[0mtsnr2\u001b[0m\u001b[0;34m)\u001b[0m\u001b[0;34m\u001b[0m\u001b[0;34m\u001b[0m\u001b[0m\n\u001b[0m\u001b[1;32m    354\u001b[0m     \u001b[0mdeltaThetaDiff\u001b[0m \u001b[0;34m=\u001b[0m \u001b[0;34m(\u001b[0m\u001b[0mlamGW\u001b[0m\u001b[0;34m/\u001b[0m\u001b[0mconstants\u001b[0m\u001b[0;34m.\u001b[0m\u001b[0mc\u001b[0m\u001b[0;34m)\u001b[0m\u001b[0;34m/\u001b[0m\u001b[0mB\u001b[0m\u001b[0;34m\u001b[0m\u001b[0;34m\u001b[0m\u001b[0m\n\u001b[1;32m    355\u001b[0m     \u001b[0mobsOut\u001b[0m\u001b[0;34m[\u001b[0m\u001b[0;34m'Baseline'\u001b[0m\u001b[0;34m]\u001b[0m \u001b[0;34m=\u001b[0m \u001b[0mB\u001b[0m\u001b[0;34m\u001b[0m\u001b[0;34m\u001b[0m\u001b[0m\n",
      "\u001b[0;32m~/Projects/FGRST/GWImager/GWI-metrics/Notebooks/../src/metrics.py\u001b[0m in \u001b[0;36mgetBaseline\u001b[0;34m(model, t, tstart)\u001b[0m\n\u001b[1;32m    126\u001b[0m     \u001b[0;31m# start using your orbit from tstart\u001b[0m\u001b[0;34m\u001b[0m\u001b[0;34m\u001b[0m\u001b[0;34m\u001b[0m\u001b[0m\n\u001b[1;32m    127\u001b[0m     \u001b[0mistart\u001b[0m \u001b[0;34m=\u001b[0m \u001b[0mnp\u001b[0m\u001b[0;34m.\u001b[0m\u001b[0margmin\u001b[0m\u001b[0;34m(\u001b[0m\u001b[0mnp\u001b[0m\u001b[0;34m.\u001b[0m\u001b[0mabs\u001b[0m\u001b[0;34m(\u001b[0m\u001b[0mt\u001b[0m\u001b[0;34m-\u001b[0m\u001b[0mtstart\u001b[0m\u001b[0;34m)\u001b[0m\u001b[0;34m)\u001b[0m\u001b[0;34m\u001b[0m\u001b[0;34m\u001b[0m\u001b[0m\n\u001b[0;32m--> 128\u001b[0;31m     \u001b[0mtheta\u001b[0m \u001b[0;34m=\u001b[0m \u001b[0;36m2\u001b[0m\u001b[0;34m*\u001b[0m\u001b[0mnp\u001b[0m\u001b[0;34m.\u001b[0m\u001b[0mpi\u001b[0m\u001b[0;34m*\u001b[0m\u001b[0mnp\u001b[0m\u001b[0;34m.\u001b[0m\u001b[0mclip\u001b[0m\u001b[0;34m(\u001b[0m\u001b[0;34m(\u001b[0m\u001b[0mt\u001b[0m\u001b[0;34m[\u001b[0m\u001b[0mistart\u001b[0m\u001b[0;34m:\u001b[0m\u001b[0;34m]\u001b[0m\u001b[0;34m-\u001b[0m\u001b[0mt\u001b[0m\u001b[0;34m[\u001b[0m\u001b[0mistart\u001b[0m\u001b[0;34m]\u001b[0m\u001b[0;34m)\u001b[0m\u001b[0;34m/\u001b[0m\u001b[0;34m(\u001b[0m\u001b[0mmodel\u001b[0m\u001b[0;34m.\u001b[0m\u001b[0mget\u001b[0m\u001b[0;34m(\u001b[0m\u001b[0;34m'Torbit'\u001b[0m\u001b[0;34m)\u001b[0m\u001b[0;34m*\u001b[0m\u001b[0mconstants\u001b[0m\u001b[0;34m.\u001b[0m\u001b[0myear\u001b[0m\u001b[0;34m)\u001b[0m\u001b[0;34m,\u001b[0m\u001b[0;36m0\u001b[0m\u001b[0;34m,\u001b[0m\u001b[0;36m0.5\u001b[0m\u001b[0;34m)\u001b[0m\u001b[0;34m\u001b[0m\u001b[0;34m\u001b[0m\u001b[0m\n\u001b[0m\u001b[1;32m    129\u001b[0m     \u001b[0mBorbit\u001b[0m \u001b[0;34m=\u001b[0m \u001b[0mmodel\u001b[0m\u001b[0;34m.\u001b[0m\u001b[0mget\u001b[0m\u001b[0;34m(\u001b[0m\u001b[0;34m'Rorbit'\u001b[0m\u001b[0;34m)\u001b[0m\u001b[0;34m*\u001b[0m\u001b[0mconstants\u001b[0m\u001b[0;34m.\u001b[0m\u001b[0mAU\u001b[0m\u001b[0;34m*\u001b[0m\u001b[0mnp\u001b[0m\u001b[0;34m.\u001b[0m\u001b[0msqrt\u001b[0m\u001b[0;34m(\u001b[0m\u001b[0;36m2\u001b[0m\u001b[0;34m*\u001b[0m\u001b[0;34m(\u001b[0m\u001b[0;36m1\u001b[0m\u001b[0;34m-\u001b[0m\u001b[0mnp\u001b[0m\u001b[0;34m.\u001b[0m\u001b[0mcos\u001b[0m\u001b[0;34m(\u001b[0m\u001b[0mtheta\u001b[0m\u001b[0;34m)\u001b[0m\u001b[0;34m)\u001b[0m\u001b[0;34m)\u001b[0m\u001b[0;34m\u001b[0m\u001b[0;34m\u001b[0m\u001b[0m\n\u001b[1;32m    130\u001b[0m     \u001b[0mB\u001b[0m\u001b[0;34m[\u001b[0m\u001b[0mistart\u001b[0m\u001b[0;34m:\u001b[0m\u001b[0;34m]\u001b[0m\u001b[0;34m=\u001b[0m \u001b[0mB\u001b[0m\u001b[0;34m[\u001b[0m\u001b[0mistart\u001b[0m\u001b[0;34m:\u001b[0m\u001b[0;34m]\u001b[0m \u001b[0;34m+\u001b[0m \u001b[0mBorbit\u001b[0m\u001b[0;34m\u001b[0m\u001b[0;34m\u001b[0m\u001b[0m\n",
      "\u001b[0;31mTypeError\u001b[0m: unsupported operand type(s) for *: 'NoneType' and 'float'"
     ]
    }
   ],
   "source": [
    "\n",
    "for mission in missions:\n",
    "    obs = list()\n",
    "    for s in objectiveList:\n",
    "        ob = metrics.getSourceSnr(s,mission,-4.0*constants.year)\n",
    "        ob = metrics.getResolution(ob)\n",
    "        #Perform the assessment\n",
    "        #The assessment is based on the ratio of the estimated capability to the objective for each of\n",
    "        #resolution and SNR, with <=1 meaning that the objective is met\n",
    "        #A total is based on the worst of those present\n",
    "        conditions=s['conditions']\n",
    "        assessment={}\n",
    "        alleps=[]\n",
    "        print(conditions)\n",
    "        if 'SNR' in conditions:\n",
    "            eps=ob['SNR']/conditions['SNR']\n",
    "            assessment['eps_SNR']=eps\n",
    "            alleps.append(eps)\n",
    "        if 'resolution' in conditions:\n",
    "            eps=conditions['resolution']/ob['Angular Resolution']\n",
    "            #print(ob['Angular Resolution'],conditions['resolution'],eps)\n",
    "            assessment['eps_res']=eps\n",
    "            alleps.append(eps)\n",
    "        #print('alleps',alleps)\n",
    "        if len(alleps)>0: assessment['eps']=max(alleps)\n",
    "        ob['assessment']=assessment    \n",
    "        obs.append(ob)\n",
    "        \n",
    "    mission['obs']=obs\n",
    "    \n"
   ]
  },
  {
   "cell_type": "markdown",
   "metadata": {},
   "source": [
    "### Show assessments"
   ]
  },
  {
   "cell_type": "code",
   "execution_count": null,
   "metadata": {
    "scrolled": true
   },
   "outputs": [],
   "source": [
    "#Make a dataframe with the results\n",
    "objectiveNames=['your target']\n",
    "data=np.zeros((len(obs),len(missions)))\n",
    "for i,mission in enumerate(missions):\n",
    "    for j,ob in enumerate(mission['obs']):\n",
    "        #print(missionNames[i],objectiveNames[j],ob['assessment'])\n",
    "        data[j,i]=ob['assessment'].get('eps',None)\n",
    "\n",
    "adf = pd.DataFrame(data,\n",
    "                  index=objectiveNames,\n",
    "                  columns=missionNames)\n",
    "#adf=adf.dropna()\n",
    "def shrink():\n",
    "    return [dict(selector=\"th\",\n",
    "                 props=[(\"font-size\", \"6pt\")]),\n",
    "            dict(selector=\"td\",\n",
    "                 props=[('padding', \"0em 0em\")])\n",
    "]\n",
    "def zoom():\n",
    "    return [\n",
    "            dict(selector=\"th:hover\",\n",
    "                 props=[(\"font-size\", \"12pt\")]),\n",
    "            dict(selector=\"tr:hover td:hover\",\n",
    "                 props=[('max-width', '200px'),\n",
    "                        ('font-size', '12pt')])\n",
    "]\n",
    "s=adf.style.background_gradient(vmin=0.1,vmax=10,cmap='RdYlGn').set_properties(**{'max-width': '120px', 'font-size': '10pt'})\n",
    "s=s.set_caption(\"Net performance\")\n",
    "#s=s.set_table_styles(shrink())\n",
    "#s=s.set_table_styles(shrink()+zoom())\n",
    "\n",
    "display(s)"
   ]
  },
  {
   "cell_type": "code",
   "execution_count": null,
   "metadata": {},
   "outputs": [],
   "source": [
    "#Make a dataframe with the results\n",
    "objectiveNames=['your target']\n",
    "data=np.zeros((len(obs),len(missions)))\n",
    "for i,mission in enumerate(missions):\n",
    "    for j,ob in enumerate(mission['obs']):\n",
    "        #print(missionNames[i],objectiveNames[j],ob['assessment'])\n",
    "        data[j,i]=ob['assessment'].get('eps_res',None)\n",
    "\n",
    "adf = pd.DataFrame(data,\n",
    "                  index=objectiveNames,\n",
    "                  columns=missionNames)\n",
    "s=adf.style.background_gradient(vmin=0.1,vmax=10,cmap='RdYlGn').set_properties(**{'max-width': '120px', 'font-size': '10pt'})\n",
    "#s=s.set_table_styles(shrink())\n",
    "#s=s.set_table_styles(shrink()+zoom())\n",
    "s=s.set_caption(\"Resolution performance\")\n",
    "display(s)"
   ]
  },
  {
   "cell_type": "markdown",
   "metadata": {},
   "source": [
    "### Make some plots"
   ]
  },
  {
   "cell_type": "markdown",
   "metadata": {},
   "source": [
    "#### Plot sensitivity curves and waveform\n",
    "Here we scale the waveform by delta-f, which is probably not quite right"
   ]
  },
  {
   "cell_type": "code",
   "execution_count": null,
   "metadata": {},
   "outputs": [],
   "source": [
    "# sensitivity plot\n",
    "#fig = plt.figure(figsize=(6,4),dpi=200)\n",
    "f = np.logspace(-5,0,1000)\n",
    "fig,axs=plt.subplots(len(missions),figsize=(6,4*len(missions)))\n",
    "for i,mission in enumerate(missions):\n",
    "    ax = axs[i]\n",
    "    for ob in mission['obs']:\n",
    "        if ob['source']['type']=='CW':continue\n",
    "        if ob['assessment'].get('eps',10)>1:continue\n",
    "        ax.plot(ob.get('f')[1:],np.abs(ob.get('h')[1:]**2)*np.diff(ob.get('f')),linestyle='-',label=ob.get('source').get('label'))\n",
    "    \n",
    "    ax.plot(f,metrics.makeSensitivity(f,mission),color = 'black', linewidth=2.0,linestyle='--',label='sensitivity')\n",
    "    ax.set_title(mission['label'])\n",
    "    ax.set_xscale('log')\n",
    "    ax.set_yscale('log')\n",
    "    ax.legend()\n",
    "    ax.grid(True)\n",
    "\n",
    "plt.xlabel(r'Frequency [Hz]')\n",
    "plt.ylabel(r'Strain PSD [Hz$^{-1}$]')\n",
    "plt.subplots_adjust()\n",
    "plt.savefig('../plots/%s_source_sensitvities.png' % 'all')"
   ]
  },
  {
   "cell_type": "markdown",
   "metadata": {},
   "source": [
    "# Stuff from below here could be adapted from binaryResolutionSources, but has not been."
   ]
  },
  {
   "cell_type": "markdown",
   "metadata": {},
   "source": [
    "#### SNR as a function of time plot"
   ]
  },
  {
   "cell_type": "code",
   "execution_count": null,
   "metadata": {},
   "outputs": [],
   "source": [
    "# SNR of time plot\n",
    "fig = plt.figure(figsize=(6,4),dpi=200)\n",
    "#ax = fig.add_subplot(1,1,1)\n",
    "fig,axs=plt.subplots(len(missions),figsize=(6,4*len(missions)))\n",
    "haveL=False\n",
    "for i,mission in enumerate(missions):\n",
    "    ax = axs[i]\n",
    "    for ob in mission['obs']:\n",
    "        if ob['source']['type']=='CW':continue\n",
    "        if ob['assessment'].get('eps',10)>1:continue\n",
    "        ax.plot(-ob.get('t')*52/constants.year,ob.get('SNR of t'),linestyle='-',label=ob.get('source').get('label'))\n",
    "        ax.set_title(mission['label'])\n",
    "        ax.set_xscale('linear')\n",
    "        ax.set_yscale('log')\n",
    "    if not haveL:\n",
    "        ax.legend()\n",
    "        haveL=True\n",
    "#print(obs)\n",
    "#plt.xlim([-ob.get('t')[0]*52/constants.year+4,-4])\n",
    "#plt.title(ob.get('source').get('label'))\n",
    "plt.xlabel('Time to merger [wks]')\n",
    "plt.ylabel(r'SNR')\n",
    "plt.subplots_adjust()\n",
    "#plt.legend()\n",
    "ax.grid(True)\n",
    "#plt.savefig('../plots/%s_snr_v_t.png' % modelName)"
   ]
  },
  {
   "cell_type": "markdown",
   "metadata": {},
   "source": [
    "#### Angular resolution as a function of time"
   ]
  },
  {
   "cell_type": "code",
   "execution_count": null,
   "metadata": {},
   "outputs": [],
   "source": [
    "# Angular resolution\n",
    "# SNR of time plot\n",
    "fig = plt.figure(figsize=(6,4),dpi=200)\n",
    "#ax = fig.add_subplot(1,1,1)\n",
    "fig,axs=plt.subplots(len(missions),figsize=(6,4*len(missions)))\n",
    "haveL=False\n",
    "for i,mission in enumerate(missions):\n",
    "    ax = axs[i]\n",
    "    for ob in mission['obs']:\n",
    "        if ob['source']['type']=='CW':continue\n",
    "        if ob['assessment'].get('eps',10)>1:continue\n",
    "        ax.plot(-ob.get('t')*52/constants.year,ob.get('Angular Resolution of t')*1e3,label= ob.get('source').get('label'))\n",
    "        ax.set_title(mission['label'])\n",
    "        ax.set_xscale('linear')\n",
    "        ax.set_yscale('log')\n",
    "        plt.ylabel('Astrometric Precision [mrad]')\n",
    "    if not haveL:\n",
    "        ax.legend()\n",
    "        haveL=True\n",
    "plt.xlabel('Time to merger [wks]')\n",
    "plt.subplots_adjust()"
   ]
  },
  {
   "cell_type": "code",
   "execution_count": null,
   "metadata": {},
   "outputs": [],
   "source": [
    "getSNRandSkyResolution(source,model"
   ]
  },
  {
   "cell_type": "code",
   "execution_count": null,
   "metadata": {},
   "outputs": [],
   "source": []
  },
  {
   "cell_type": "code",
   "execution_count": null,
   "metadata": {},
   "outputs": [],
   "source": []
  }
 ],
 "metadata": {
  "kernelspec": {
   "display_name": "Python 3 (ipykernel)",
   "language": "python",
   "name": "python3"
  },
  "language_info": {
   "codemirror_mode": {
    "name": "ipython",
    "version": 3
   },
   "file_extension": ".py",
   "mimetype": "text/x-python",
   "name": "python",
   "nbconvert_exporter": "python",
   "pygments_lexer": "ipython3",
   "version": "3.8.12"
  }
 },
 "nbformat": 4,
 "nbformat_minor": 4
}
