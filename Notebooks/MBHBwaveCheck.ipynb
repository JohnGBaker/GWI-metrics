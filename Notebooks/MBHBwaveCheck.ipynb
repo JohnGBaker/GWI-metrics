{
 "cells": [
  {
   "cell_type": "markdown",
   "metadata": {},
   "source": [
    "# MBHB SNR Calculator\n",
    "A simple notebook to exercise the MBHB waveform code and make a sanity check of SNR\n",
    "\n",
    "To run this on Google Colab:\n",
    "[![Open In Colab](https://colab.research.google.com/assets/colab-badge.svg)](https://colab.research.google.com/github/ithorpe/GWI-metrics/blob/main/Notebooks/MBHBwaveCheck.ipynb)"
   ]
  },
  {
   "cell_type": "code",
   "execution_count": 1,
   "metadata": {},
   "outputs": [
    {
     "ename": "ImportError",
     "evalue": "cannot import name 'getIntrinsic'",
     "output_type": "error",
     "traceback": [
      "\u001b[0;31m---------------------------------------------------------------------------\u001b[0m",
      "\u001b[0;31mImportError\u001b[0m                               Traceback (most recent call last)",
      "\u001b[0;32m<ipython-input-1-f922140c8cbb>\u001b[0m in \u001b[0;36m<module>\u001b[0;34m\u001b[0m\n\u001b[1;32m      7\u001b[0m \u001b[0;32mimport\u001b[0m \u001b[0mmetrics\u001b[0m\u001b[0;34m\u001b[0m\u001b[0;34m\u001b[0m\u001b[0m\n\u001b[1;32m      8\u001b[0m \u001b[0;32mimport\u001b[0m \u001b[0mconcepts\u001b[0m\u001b[0;34m\u001b[0m\u001b[0;34m\u001b[0m\u001b[0m\n\u001b[0;32m----> 9\u001b[0;31m \u001b[0;32mfrom\u001b[0m \u001b[0mPhenomWaveform_nonspinning\u001b[0m \u001b[0;32mimport\u001b[0m \u001b[0mgetIntrinsic\u001b[0m \u001b[0;32mas\u001b[0m \u001b[0mMBHBwave\u001b[0m\u001b[0;34m\u001b[0m\u001b[0;34m\u001b[0m\u001b[0m\n\u001b[0m\u001b[1;32m     10\u001b[0m \u001b[0;34m\u001b[0m\u001b[0m\n",
      "\u001b[0;31mImportError\u001b[0m: cannot import name 'getIntrinsic'"
     ]
    }
   ],
   "source": [
    "# Import\n",
    "import numpy as np\n",
    "import matplotlib.pyplot as plt\n",
    "import sys\n",
    "sys.path.append('../src/')\n",
    "import constants\n",
    "import metrics\n",
    "import concepts\n",
    "from PhenomWaveform_nonspinning import getIntrinsic as MBHBwave\n",
    "\n"
   ]
  },
  {
   "cell_type": "code",
   "execution_count": null,
   "metadata": {},
   "outputs": [],
   "source": [
    "# make the waveform\n",
    "m1 = 1e6\n",
    "m2 = 1e6\n",
    "mtot = (m1+m2)*constants.MSun2s\n",
    "eta = ((m1*m2)/((m1+m2)**2))\n",
    "d = 6.7e6*constants.kpc2s   # redshift of ~ 1 = 6700 Mpc = 6.7e6 kpc\n",
    "f = np.logspace(-4,0,256)\n",
    "h = MBHBwave(f,mtot,eta,d)\n",
    "fig = plt.figure(figsize=(8,6))\n",
    "ax = fig.add_subplot(2,1,1)\n",
    "ax.plot(f,np.abs(h),'r',label=r'Phenom')\n",
    "plt.title(r'Mtot=%2.1e, eta=%2.1e, D = %2.1e' % (mtot/constants.MSun2s, eta/constants.MSun2s, (d/constants.kpc2s)/1e3))\n",
    "plt.xscale('log')\n",
    "plt.yscale('log')\n",
    "plt.grid(True)\n",
    "plt.ylabel('Amplitude')\n",
    "ax = fig.add_subplot(2,1,2)\n",
    "plt.plot(f, np.angle(h)*180/np.pi, 'r', label=r'Phenom')\n",
    "plt.xscale('log')\n",
    "plt.yscale('linear')\n",
    "plt.xlabel('Frequency [Hz]')\n",
    "plt.ylabel('Phase [deg]')\n",
    "plt.grid(True)\n",
    "#plt.show()"
   ]
  },
  {
   "cell_type": "code",
   "execution_count": null,
   "metadata": {},
   "outputs": [],
   "source": [
    "# make the model and the sensitivity curve\n",
    "model=concepts.LISASciRDv1\n",
    "S_h=metrics.makeSensitivity(f, model)\n",
    "model"
   ]
  },
  {
   "cell_type": "code",
   "execution_count": null,
   "metadata": {},
   "outputs": [],
   "source": [
    "# compute the SNR\n",
    "snri = 4*np.real(h*np.conjugate(h)/S_h)\n",
    "snr = np.sqrt(np.sum(np.diff(f)*snri[1:]))\n",
    "print('SNR = %4.3g' % snr)"
   ]
  },
  {
   "cell_type": "code",
   "execution_count": null,
   "metadata": {},
   "outputs": [],
   "source": [
    "# plot the waveform & sensitivity curve\n",
    "fig = plt.figure(figsize=(8,6))\n",
    "ax = plt.plot(f, np.abs(h)**2, 'r-', label=r'Mtot=%2.1e, eta=%2.1e, D = %2.1e' % (mtot/constants.MSun2s, eta/constants.MSun2s, (d/constants.kpc2s)/1e3))\n",
    "plt.plot(f,S_h,'k--',label='%s' % model.get('label'))\n",
    "plt.legend()\n",
    "plt.title('SNR = %2.1f' % snr)\n",
    "plt.xscale(\"log\")\n",
    "plt.yscale(\"log\")\n",
    "plt.grid(True)\n",
    "plt.xlabel('Frequency [Hz]')\n",
    "plt.ylabel('Amplitude [1/Hz]')\n",
    "plt.show()\n",
    "#fig = plt.figure()\n",
    "#ax = fig.add_subplot(2,1,2)\n",
    "#ax.plot(f, np.angle(h), 'k-', label=r'complete')\n",
    "#plt.xscale(\"log\")\n",
    "#plt.show()\n",
    "\n",
    "\n"
   ]
  },
  {
   "cell_type": "code",
   "execution_count": null,
   "metadata": {},
   "outputs": [],
   "source": []
  }
 ],
 "metadata": {
  "kernelspec": {
   "display_name": "Python 3",
   "language": "python",
   "name": "python3"
  },
  "language_info": {
   "codemirror_mode": {
    "name": "ipython",
    "version": 3
   },
   "file_extension": ".py",
   "mimetype": "text/x-python",
   "name": "python",
   "nbconvert_exporter": "python",
   "pygments_lexer": "ipython3",
   "version": "3.6.10"
  }
 },
 "nbformat": 4,
 "nbformat_minor": 4
}
