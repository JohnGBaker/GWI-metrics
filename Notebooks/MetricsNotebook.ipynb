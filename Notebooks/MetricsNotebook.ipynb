{
 "cells": [
  {
   "cell_type": "markdown",
   "metadata": {},
   "source": [
    "## Metrics for GW Imaging\n",
    "\n",
    "The traditional metric for exploring new GW missions is a sensitivity curve showing sensitivity to GW signals as a function of frequency.  Here we assemble tools for computing metrics from basic design parameters. Useful metric are:\n",
    "- Sensitivity\n",
    "- Diffraction Limited Resolution\n",
    "- Astrometric Precision\n",
    "\n",
    "This notebook copies and adapts significantly from code to be released with an upcoming LISA Consoritum technical note to define standards for LISA sensitivity calculations. (*Need a reference*)\n",
    "\n",
    "To run this on Google Colab:\n",
    "markdown\n",
    "[![Open In Colab](https://colab.research.google.com/assets/colab-badge.svg)](https://colab.research.google.com/github/JohnGBaker/GWI-metrics/blob/main/Notebooks/MetricsNotebook.ipynb)"
   ]
  },
  {
   "cell_type": "markdown",
   "metadata": {},
   "source": [
    "### Some basic setup"
   ]
  },
  {
   "cell_type": "code",
   "execution_count": 1,
   "metadata": {},
   "outputs": [],
   "source": [
    "import numpy as np\n",
    "import matplotlib.pyplot as plt\n",
    "import sys\n",
    "sys.path.append('../src/')\n",
    "import metrics\n",
    "import concepts"
   ]
  },
  {
   "cell_type": "markdown",
   "metadata": {},
   "source": [
    "### Define mission concept model parameters\n",
    "We use a dictionary to collect the basic relevant mission parameters.  For now we just have a few basic params an LISA as a reference case.\n",
    "\n",
    "For the LISASciRDv1 example we provide explicit values for the core noise levels. We have allowed for providing a function which derives these based on lower-level parameters as well.\n",
    "Some parameters:\n",
    "\n",
    "| Name         | Units             | Description |\n",
    "| :- | :- | :- |\n",
    "| sqSacc_level | $m/s^2/\\sqrt{Hz}$ | Acceleration noise level     |\n",
    "| sqSacc_func  | --                | Function to compute acceleration noise level     |\n",
    "| sqSoms_level | $m/\\sqrt{Hz}$     | Optical metrology system noise level     |\n",
    "| sqSoms_func  | --                | Function to compute optical metrology system noise level     |\n",
    "| Lconst       | $m$               | Constellation armlength scale |\n",
    "| Rorbit       | AU                | Size of orbit |\n",
    "| Torbit       | yr                | Period of orbit |\n",
    "| Dsep         | AU                | Distance separating multiple constellations |\n",
    "| Nindep       | --                | Number of independent GW channels  |"
   ]
  },
  {
   "cell_type": "code",
   "execution_count": 2,
   "metadata": {},
   "outputs": [],
   "source": [
    "'''\n",
    "LISASciRDv1 = {\n",
    "    'label' : 'LISA(SciRDv1)',\n",
    "    'sqSacc_level' : 3e-15,\n",
    "    'sqSoms_level' : 15e-12,\n",
    "    'Lconst' : 2.5e9,\n",
    "    'Dsep' : 0,\n",
    "    'Rorbit' : 1.0,\n",
    "    'Torbit' : 1.0,\n",
    "    'Nindep' : 2\n",
    "}\n",
    "'''\n",
    "LISASciRDv1=concepts.LISASciRDv1"
   ]
  },
  {
   "cell_type": "markdown",
   "metadata": {},
   "source": [
    "### Make PSD Noise Components\n",
    "We follow LISA in computing the noise. In that case the noise is more-or-less directly derived from \n",
    "- a measure of the acceleration noise in $m/s^2/\\sqrt(Hz)$ with some additional reddening factors\n",
    "- a measure of optical measurement system noise in $m/\\sqrt(Hz)$\n",
    "The noise PSD is reported in fractional frequency units"
   ]
  },
  {
   "cell_type": "markdown",
   "metadata": {},
   "source": [
    "#Probably adapt more for GW Imager concepts \n",
    "def PSD_noise_components(fr, model):\n",
    "    if 'sqSacc_level' in model:\n",
    "        sqSacc_level = model.get('sqSacc_level') \n",
    "    else:\n",
    "        sqSacc_level = model.get('sqSacc_func')(model) #Can provide a func here instesad of a value\n",
    "    if 'sqSoms_level' in model:\n",
    "        sqSoms_level = model.get('sqSoms_level')\n",
    "    else:\n",
    "        sqSoms_level = model.get('sqSoms_func')(model) #Can provide a func based Jeff's calculations\n",
    "    \n",
    "    c=constants['c']\n",
    "    \n",
    "    ### Acceleration noise\n",
    "    Sa_a = sqSacc_level**2 *(1.0 +(0.4e-3/fr)**2)*(1.0+(fr/8e-3)**4)\n",
    "    Sa_d = Sa_a*(2.*np.pi*fr)**(-4.)\n",
    "    Sa_nu = Sa_d*(2.0*np.pi*fr/c)**2\n",
    "\n",
    "    ### Optical Metrology System\n",
    "    Soms_d = sqSoms_level**2 * (1. + (2.e-3/fr)**4)\n",
    "    Soms_nu = Soms_d*(2.0*np.pi*fr/c)**2\n",
    "    \n",
    "    return [Sa_nu, Soms_nu]"
   ]
  },
  {
   "cell_type": "markdown",
   "metadata": {},
   "source": [
    "## Sensitivity\n",
    "### Core calculation\n",
    "#### LISA Technical Note Expression\n",
    "\n",
    "Using the semi-analytical average response, the semi-analytical sensitivity for TDI X 4 links is:\n",
    "$$\n",
    "S_{h,X} =  \\frac{ S_{OMS} + \\left( 3 + \\cos \\left( \\frac{2 \\omega L}{c} \\right)  \\right)  S_{acc} }\n",
    "{ \\left( {\\omega L \\over c} \\right)^2 \\ R_{\\Sigma}^2(f, L) }\n",
    "$$\n",
    "$$\n",
    "S_{h,X} \n",
    "=  \\frac{S_{n,X_{2.0}}}\n",
    "{<R_{L, X_{2.0}}(f)>} \n",
    "= \\frac{ 64 \\sin^2 \\left( \\omega L \\right) \\sin^2 \\left(2 \\omega L \\right) (S_{OMS} + \\left( 3 + \\cos \\left( \\frac{2 \\omega L}{c} \\right)  \\right)  S_{acc}) }\n",
    "{ (4\\omega L)^2 \\sin^2{(\\omega L)} (2 \\sin{(2\\omega L)})^2 <(F^{+}_{X})^2> }\n",
    "= \\frac{ S_{OMS} + \\left( 3 + \\cos \\left( \\frac{2 \\omega L}{c} \\right)  \\right)  S_{acc} }\n",
    "{ \\left( \\omega L \\right)^2  <(F^{+}_{X})^2>  }\n",
    "$$\n",
    "#### Larson\n",
    "Using the semi-analytical average response a la Larson, the semi-analytical sensitivity for TDI X 4 links is:\n",
    "$$\n",
    "S_{h, X}  =  \\frac{ S_{OMS} + \\left( 3 + \\cos \\left( \\frac{2 \\omega L}{c} \\right)  \\right)  S_{acc} }\n",
    "{ \\left( {\\omega L \\over c} \\right)^2 \\ R_{\\Sigma}^2(f, L) }\n",
    "$$\n",
    "\n",
    "#### Arm response to GW\n",
    "From the LISA technical note we use their analytic approximation of $<(F^{+}_{X})^2>$ rather than a time consuming or tabulated detailed calculation.\n",
    "\n",
    "For the Larson version, we copy from the LISA TN in drawing from Larson et al. PRD 62,062001\n",
    "\n",
    "$$\n",
    "R_{\\Sigma}(u) = \\frac{1}{u^2} \\left[ (1+ \\cos^2 u) \\left( \\frac{1}{3} - \\frac{2}{u^2} \\right) +\\sin^2 u + \\frac{4}{u^3} \\sin u \\cos u \\right] \n",
    "- \\frac{1}{4 \\pi} I_{\\epsilon,\\theta_1}(u)\n",
    "$$\n",
    "with $u = \\omega L$ and the integral:\n",
    "$$\n",
    "I_{\\epsilon,\\theta_1}(u) = \\int_0^{2 \\pi} d \\epsilon \\int_0^{\\pi} d \\theta_1 \\sin \\theta_1 ( 1 - 2 \\sin^2 \\alpha ) \\ \\eta(u)\n",
    "$$\n",
    "\n",
    "$$\n",
    "\\eta(u) =  [\\cos u - \\cos(u \\mu_1)] [\\cos u - \\cos(u \\mu_2)] \\mu_1 \\mu_2 + [\\sin u - \\mu_1 \\sin(u \\mu_1)] [\\sin u - \\mu_2 \\sin(u \\mu_2)]\n",
    "$$\n",
    "$$\n",
    "\\sin(\\alpha) = \\frac{sin \\gamma \\sin \\epsilon}{\\sin \\theta_2}\n",
    "$$\n",
    "$$\n",
    "\\cos \\theta_2 = \\cos \\gamma \\cos \\theta_1 + \\sin \\gamma \\sin \\theta_1 \\cos \\epsilon\n",
    "$$\n",
    " and $\\mu_i = \\cos \\theta_i$"
   ]
  },
  {
   "cell_type": "markdown",
   "metadata": {},
   "source": [
    "#Component for the LISA TN computation:\n",
    "def AvFXp2_approx(fr,L):\n",
    "    return 16.*(3./20.)*(1./(1.+0.6*(2.*np.pi*fr*L)**2))\n",
    "\n",
    "#Components for the Larson computation\n",
    "gamma = 60*180/np.pi\n",
    "sg = np.sin(gamma)\n",
    "cg = np.cos(gamma)\n",
    "def fIte(eps,th1,u,cu,su,sg,cg):\n",
    "    cth1 = np.cos(th1)\n",
    "    sth1 = np.sin(th1)\n",
    "    cth2 = cg*cth1+sg*sth1*np.cos(eps)\n",
    "    sa = sg*np.sin(eps)/np.sqrt(1-cth2*cth2)\n",
    "    eta = (cu-np.cos(u*cth1))*(cu-np.cos(u*cth2))*cth1*cth2+(su-cth1*np.sin(u*cth1))*(su-cth2*np.sin(u*cth2))\n",
    "    #print(eps,th1,cth1,sth1,sa,eta,sa)\n",
    "    return np.sin(th1)*(1-2*sa*sa)*eta\n",
    "\n",
    "def Tarm(f,L):\n",
    "    from scipy.integrate import dblquad\n",
    "    w = 2*np.pi*f\n",
    "    u = w*L\n",
    "    cu = np.cos(u)\n",
    "    su = np.sin(u)\n",
    "    \n",
    "    \n",
    "    Iet = dblquad(fIte, 0, 2*np.pi, lambda x: 0, lambda x: np.pi, args=(u,cu,su,sg,cg))\n",
    "    #print(Iet)\n",
    "    return ((1+cu*cu)*(1./3.-2./(u*u))+su*su+4.*su*cu/(u*u*u))/(u*u) - Iet[0]/(4.*np.pi)\n",
    "\n",
    "    \n",
    "#Compute sensitivty curve\n",
    "def makeSensitivity(fr, model,style='TN'):\n",
    "    [Sa_nu,Soms_nu] = metrics.PSD_noise_components(fr, model)\n",
    "    L=model.get('Lconst')\n",
    "    N=model.get('Nindep')\n",
    "    c=constants['c']\n",
    "    phiL = 2*np.pi*fr*L/c\n",
    "    if style=='TN':\n",
    "        AvFXp2 = AvFXp2_approx(fr,L/c)\n",
    "        S_hX = (Soms_nu + Sa_nu*(3.+np.cos(2*phiL)) ) / (phiL**2 * AvFXp2/4**2)#LISA TN\n",
    "    elif style=='Larson': #This is very slow!\n",
    "        yTarm = np.zeros(len(fr))\n",
    "        for i in range(len(fr)):\n",
    "            yTarm[i] = Tarm(fr[i],L)\n",
    "        #renormalize as in TN\n",
    "        yTarmN = yTarm/yTarm[0]\n",
    "        yTarmRN = yTarmN * (np.sin(np.pi/3.)**2/5)\n",
    "        S_hX = (Soms_nu + Sa_nu*(3+np.cos(2*phiL)) ) / (phiL**2 * yTarmRN)\n",
    "    S_h = S_hX / N\n",
    "    return S_h\n"
   ]
  },
  {
   "cell_type": "code",
   "execution_count": 3,
   "metadata": {},
   "outputs": [
    {
     "data": {
      "text/plain": [
       "<matplotlib.legend.Legend at 0x7fb760d0b048>"
      ]
     },
     "execution_count": 3,
     "metadata": {},
     "output_type": "execute_result"
    },
    {
     "data": {
      "image/png": "[encoded data removed]",
      "text/plain": [
       "<Figure size 576x432 with 1 Axes>"
      ]
     },
     "metadata": {
      "needs_background": "light"
     },
     "output_type": "display_data"
    }
   ],
   "source": [
    "fr=np.logspace(-5,0,150)\n",
    "model=LISASciRDv1\n",
    "S_h=metrics.makeSensitivity(fr, model)\n",
    "#trim range\n",
    "imin=0\n",
    "Smin=min(S_h)\n",
    "Scut=100000**2*Smin\n",
    "while S_h[imin]>Scut:imin+=1\n",
    "iend=len(S_h)\n",
    "while S_h[iend-1]>Scut:iend-=1\n",
    "plt.figure(figsize=[8,6])\n",
    "plt.loglog(fr[imin:iend],np.sqrt(S_h[imin:iend]),label=model.get('label'))\n",
    "plt.xlabel(r'Frequency ($Hz$)')\n",
    "plt.ylabel(r'Sensitivity $h$ ($1/\\sqrt{Hz}$) 6 links')\n",
    "plt.grid()\n",
    "plt.legend()"
   ]
  },
  {
   "cell_type": "markdown",
   "metadata": {},
   "source": [
    "### Imaging\n",
    "Here we construct two elementary figures of merit relevant for imaging, relevant for our imaging incoherent and our astrometric notions of imaging. \n",
    "\n",
    "The first is basically diffraction limited resolution for short or long duration sources concentrated at some rerference frequency. The estimate is:\n",
    "$$\n",
    "\\Delta \\theta_\\mathrm{diff} \\approx F \\frac{\\lambda}{D}\n",
    "$$\n",
    "Where we suppose $F\\approx 1$ and\n",
    "$$\n",
    "\\max(L_\\mathrm{constellation},D_\\mathrm{sep})\\leq D \\leq \\max(2R_{orbit},L_\\mathrm{constellation},D_\\mathrm{sep})\n",
    "$$\n",
    "depending on how long the source lasts compared to $T_\\mathrm{orbit}$.\n",
    "\n",
    "The other is astrometric localization which is scaled by the SNR:\n",
    "$$\n",
    "\\Delta \\theta_\\mathrm{am} \\approx \\Delta \\theta_\\mathrm{diff}/\\rho\n",
    "$$\n",
    "\n",
    "There are a number of different ways we can think about making plots using these, including horizon distances for reference classes of obervations, etc. More thought is needed on what makes sense.."
   ]
  },
  {
   "cell_type": "markdown",
   "metadata": {},
   "source": [
    "def dResRange(fr,model):\n",
    "    D=model['Lconst']\n",
    "    c=constants['c']\n",
    "    au=constants['AU']*c\n",
    "    if 'Dsep' in model: D=max([D,model['Dsep']*au])\n",
    "    Dshort=D\n",
    "    if 'Rorbit' in model: D=max([D,2*model['Rorbit']*au])\n",
    "    Dlong=D\n",
    "    dtheta_long=c/fr/Dlong\n",
    "    dtheta_short=c/fr/Dshort\n",
    "    return dtheta_long,dtheta_short\n"
   ]
  },
  {
   "cell_type": "code",
   "execution_count": 4,
   "metadata": {},
   "outputs": [
    {
     "data": {
      "text/plain": [
       "<matplotlib.legend.Legend at 0x7fb741cd3cc0>"
      ]
     },
     "execution_count": 4,
     "metadata": {},
     "output_type": "execute_result"
    },
    {
     "data": {
      "image/png": "[encoded data removed]",
      "text/plain": [
       "<Figure size 576x432 with 1 Axes>"
      ]
     },
     "metadata": {
      "needs_background": "light"
     },
     "output_type": "display_data"
    }
   ],
   "source": [
    "fr=np.logspace(-4,-1,150)\n",
    "model=LISASciRDv1\n",
    "dResLong,dResShort=metrics.dResRange(fr, model)\n",
    "plt.figure(figsize=[8,6])\n",
    "dthetamax=2*np.pi\n",
    "plt.loglog(fr,np.clip(dResLong,None,dthetamax),label=model.get('label')+'long')\n",
    "plt.loglog(fr,np.clip(dResShort,None,dthetamax),label=model.get('label')+'short')\n",
    "#plt.fill_between(fr,np.clip(dResLong,None,dthetamax),np.clip(dResShort,None,dthetamax),label=model.get('label'))\n",
    "plt.xlabel(r'Frequency ($Hz$)')\n",
    "plt.ylabel(r'Diffraction limited resolution $\\Delta\\theta_\\mathrm{diff}$ (rad) range')\n",
    "plt.grid()\n",
    "plt.legend()\n"
   ]
  },
  {
   "cell_type": "code",
   "execution_count": null,
   "metadata": {},
   "outputs": [],
   "source": []
  },
  {
   "cell_type": "code",
   "execution_count": null,
   "metadata": {},
   "outputs": [],
   "source": []
  }
 ],
 "metadata": {
  "kernelspec": {
   "display_name": "Python 3",
   "language": "python",
   "name": "python3"
  },
  "language_info": {
   "codemirror_mode": {
    "name": "ipython",
    "version": 3
   },
   "file_extension": ".py",
   "mimetype": "text/x-python",
   "name": "python",
   "nbconvert_exporter": "python",
   "pygments_lexer": "ipython3",
   "version": "3.6.10"
  }
 },
 "nbformat": 4,
 "nbformat_minor": 4
}
