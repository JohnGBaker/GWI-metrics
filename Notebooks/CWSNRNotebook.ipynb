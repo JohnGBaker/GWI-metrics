{
 "cells": [
  {
   "cell_type": "markdown",
   "metadata": {},
   "source": [
    "## Gravitational wave Astrometry estimates for an isolated CW source\n",
    "\n",
    "This notebook build on the `MetricsNotebook` to compute an estimate for the precision with which the sky location of an isolated monochromatic gravitatioal wave source can be measured with a specific space-based GW mission concept. \n",
    "\n",
    "To run this on Google Colab:\n",
    "markdown\n",
    "[![Open In Colab](https://colab.research.google.com/assets/colab-badge.svg)](https://colab.research.google.com/github/JohnGBaker/GWI-metrics/blob/main/Notebooks/CWSNRNotebook.ipynb)"
   ]
  },
  {
   "cell_type": "markdown",
   "metadata": {},
   "source": [
    "### Some basic setup"
   ]
  },
  {
   "cell_type": "code",
   "execution_count": 1,
   "metadata": {},
   "outputs": [],
   "source": [
    "import numpy as np\n",
    "import matplotlib.pyplot as plt\n",
    "import sys\n",
    "sys.path.append('../src/')\n",
    "import metrics\n",
    "import concepts"
   ]
  },
  {
   "cell_type": "markdown",
   "metadata": {},
   "source": [
    "### Define the mission concept\n",
    "We use a dictionary to collect the basic relevant mission parameters.  For now we just have a few basic params an LISA as a reference case.\n",
    "\n",
    "For the LISASciRDv1 example we provide explicit values for the core noise levels. We have allowed for providing a function which derives these based on lower-level parameters as well.\n",
    "Some parameters:\n",
    "\n",
    "| Name         | Units             | Description |\n",
    "| :- | :- | :- |\n",
    "| sqSacc_level | $m/s^2/\\sqrt{Hz}$ | Acceleration noise level     |\n",
    "| sqSacc_func  | --                | Function to compute acceleration noise level     |\n",
    "| sqSoms_level | $m/\\sqrt{Hz}$     | Optical metrology system noise level     |\n",
    "| sqSoms_func  | --                | Function to compute optical metrology system noise level     |\n",
    "| Lconst       | $m$               | Constellation armlength scale |\n",
    "| Rorbit       | AU                | Size of orbit |\n",
    "| Torbit       | yr                | Period of orbit |\n",
    "| Dsep         | AU                | Distance separating multiple constellations |\n",
    "| Nindep       | --                | Number of independent GW channels  |"
   ]
  },
  {
   "cell_type": "code",
   "execution_count": 2,
   "metadata": {},
   "outputs": [
    {
     "data": {
      "text/plain": [
       "{'label': 'LISA(SciRDv1)',\n",
       " 'sqSacc_level': 3e-15,\n",
       " 'sqSoms_level': 1.5e-11,\n",
       " 'Lconst': 2500000000.0,\n",
       " 'Dsep': 0,\n",
       " 'Rorbit': 1.0,\n",
       " 'Torbit': 1.0,\n",
       " 'Nindep': 2}"
      ]
     },
     "execution_count": 2,
     "metadata": {},
     "output_type": "execute_result"
    }
   ],
   "source": [
    "# here we load in a pre-defined option\n",
    "LISASciRDv1=concepts.LISASciRDv1\n",
    "LISASciRDv1"
   ]
  },
  {
   "cell_type": "markdown",
   "metadata": {},
   "source": [
    "### Define the source\n",
    "Again, we make use of a dicitonary to collect parameters.  The idea is that the definition can be flexible for different parametrizations of source types. Here are the potential parmetrizations for a CW source\n",
    "\n",
    "| Name         | Units             | Description |\n",
    "| :- | :- | :- |\n",
    "| f0 | Hz | GW frequency (overrides semimajor axis if both are provided)     |\n",
    "| h0 | --                | GW amplitude (overrides other parameters if provided)   |\n",
    "| m1 | $M_{Sun}$     | component mass 1  |\n",
    "| m2 | $M_{Sun}$     | component mass 2  |\n",
    "| mtot | $M_{Sun}$   | total mass (together with mchirp, overrides m1 and m2)  |\n",
    "| mchirp | $M_{Sun}$   | chirp mass (together with mtot, overrides m1 and m2)  |\n",
    "| dl | $kpc$   | luminosity distance |\n",
    "| a  | AU   | semi-major axis     |\n",
    "| T  | s   | observation time. if an array is provided, SNR functions return SNR vs. time |\n"
   ]
  },
  {
   "cell_type": "code",
   "execution_count": 5,
   "metadata": {},
   "outputs": [],
   "source": [
    "# Parameters for AmCV taken from CLHT demo\n",
    "AmCV = {\n",
    "    'type' : 'CW',\n",
    "    'label' : 'AmCV',\n",
    "    'm1' : 0.68,\n",
    "    'm2' : 0.125,\n",
    "    'dl' : 0.3,\n",
    "    'a'  : 0.5*9.5e-4,\n",
    "    'T'  : 3.1e7\n",
    "}"
   ]
  },
  {
   "cell_type": "markdown",
   "metadata": {},
   "source": [
    "### SNR and astrometry calculations\n"
   ]
  },
  {
   "cell_type": "code",
   "execution_count": 4,
   "metadata": {},
   "outputs": [
    {
     "data": {
      "text/plain": [
       "690.6404056297393"
      ]
     },
     "execution_count": 4,
     "metadata": {},
     "output_type": "execute_result"
    }
   ],
   "source": [
    "# first we do a single point estimate\n",
    "snr = metrics.getSourceSnr(AmCV,LISASciRDv1)\n",
    "snr"
   ]
  },
  {
   "cell_type": "code",
   "execution_count": 10,
   "metadata": {},
   "outputs": [
    {
     "data": {
      "text/plain": [
       "Text(0, 0.5, 'SNR')"
      ]
     },
     "execution_count": 10,
     "metadata": {},
     "output_type": "execute_result"
    },
    {
     "data": {
      "image/png": "[encoded data removed]",
      "text/plain": [
       "<Figure size 432x288 with 1 Axes>"
      ]
     },
     "metadata": {
      "needs_background": "light"
     },
     "output_type": "display_data"
    }
   ],
   "source": [
    "# snr as a funciton of time\n",
    "t = np.logspace(np.log10((1/12)*np.pi*1e7),np.log10(5*np.pi*1e7),100)\n",
    "snrt = np.zeros_like(t)\n",
    "for ii,it in enumerate(t):\n",
    "    source = AmCV.copy()\n",
    "    source['T'] = it\n",
    "    snrt[ii] = metrics.getSourceSnr(source,LISASciRDv1)\n",
    "\n",
    "plt.loglog(t,snrt,label=AmCV.get('label'))\n",
    "plt.grid(True)\n",
    "plt.xlabel('Observation time [s]')\n",
    "plt.ylabel('SNR')\n"
   ]
  }
 ],
 "metadata": {
  "kernelspec": {
   "display_name": "Python 3",
   "language": "python",
   "name": "python3"
  },
  "language_info": {
   "codemirror_mode": {
    "name": "ipython",
    "version": 3
   },
   "file_extension": ".py",
   "mimetype": "text/x-python",
   "name": "python",
   "nbconvert_exporter": "python",
   "pygments_lexer": "ipython3",
   "version": "3.8.5"
  }
 },
 "nbformat": 4,
 "nbformat_minor": 4
}
