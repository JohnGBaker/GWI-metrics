{
 "cells": [
  {
   "cell_type": "markdown",
   "id": "0a517fdf-bb6a-42c4-baca-64723640e5df",
   "metadata": {},
   "source": [
    "# Color Skymaps for GW Image Paper\n",
    "Ira Thorpe, 2022.11.12\n",
    "Based on the work of Kaitlyn Szerkezces in Summer 2022\n"
   ]
  },
  {
   "cell_type": "markdown",
   "id": "c9579af8-e113-42b1-92f4-2a72dfa3f1b8",
   "metadata": {},
   "source": [
    "### Setup"
   ]
  },
  {
   "cell_type": "code",
   "execution_count": null,
   "id": "484628d6-36af-43b5-8cd7-e6f2fd5d5cf1",
   "metadata": {},
   "outputs": [],
   "source": [
    "# Import standard libraries\n",
    "import numpy as np\n",
    "import pandas as pd\n",
    "import matplotlib as mpl\n",
    "import matplotlib.cm as cm\n",
    "import matplotlib.pyplot as plt\n",
    "import matplotlib.colors as colors\n",
    "from matplotlib.ticker import FormatStrFormatter\n",
    "import sys\n",
    "from lisacattools import HPhist, convert_ecliptic_to_galactic\n",
    "\n",
    "# import GW Imager libraries\n",
    "sys.path.append('../src/')\n",
    "import constants\n",
    "import metrics\n",
    "import sources\n",
    "import concepts\n",
    "import subsystems\n",
    "import background\n",
    "import falseColorGW\n",
    "\n",
    "# make directory for plots\n",
    "!mkdir -p '../plots/'\n",
    "\n",
    "fontSize = 20\n"
   ]
  },
  {
   "cell_type": "code",
   "execution_count": null,
   "id": "f19d31b9-53f0-4251-9ef3-6c9596197901",
   "metadata": {},
   "outputs": [],
   "source": [
    "# Define mission concept\n",
    "model = concepts.LISASciRDv1\n",
    "#model = concepts.AMIGO\n",
    "\n",
    "model = background.add2model(model)\n",
    "model['label']= 'LISA'\n",
    "model"
   ]
  },
  {
   "cell_type": "code",
   "execution_count": null,
   "id": "9dbd9bcc-8239-44b9-8418-ad27684e4203",
   "metadata": {},
   "outputs": [],
   "source": [
    "# Load in the GBs from LDC\n",
    "LDCgalaxyFile = **FILENAME**\n",
    "galaxy = pd.read_hdf(LDCgalaxyFile,key='keyfile')\n",
    "galaxy.describe()"
   ]
  },
  {
   "cell_type": "code",
   "execution_count": null,
   "id": "567f2c9c-d219-4923-b196-a3d6421fa5c1",
   "metadata": {},
   "outputs": [],
   "source": [
    "# Get the SNR and CDL for this galaxy with this detector\n",
    "f = galaxy['Frequency']\n",
    "h = galaxy['Amplitude']\n",
    "snr = metrics.getCWsnr(f,h,4*constants.year,model)\n",
    "lamGW = constants.c / f\n",
    "B = 2.0*constants.AU*constants.c\n",
    "cdl = (1/snr)*(lamGW/B)*180/np.pi\n",
    "\n",
    "galaxy.insert(8,'SNR',snr)\n",
    "galaxy.insert(9,'CDL', cdl)\n",
    "galaxy.describe()"
   ]
  },
  {
   "cell_type": "code",
   "execution_count": null,
   "id": "b4ac52d1-b72a-450f-9045-e444a5bfe8cc",
   "metadata": {},
   "outputs": [],
   "source": [
    "# make an SNR cut to estimate detections\n",
    "galaxy_detected = galaxy[galaxy['SNR']>=8]\n",
    "galaxy_detected.describe()"
   ]
  },
  {
   "cell_type": "code",
   "execution_count": null,
   "id": "0bc9e69b-175a-48c1-9fc6-1e1b37bbe94e",
   "metadata": {},
   "outputs": [],
   "source": [
    "# Frequency/Amplitude scatter plot for detections, with colorbars showing CDL\n",
    "fig = plt.figure(figsize=(10, 10), dpi = 100)\n",
    "ax = plt.axes()\n",
    "\n",
    "plt.yscale('log')\n",
    "plt.xscale('log')\n",
    "plt.xlim([3e-4,3e-2])\n",
    "plt.ylim([1e-25,1e-20])\n",
    "ax.tick_params(axis = 'both', which = 'major', labelsize = 12)\n",
    "\n",
    "#cNorm = colors.LogNorm(vmin=galaxy_detected['CDL'].min(), vmax=galaxy_detected['CDL'].max()) #re-wrapping normalization\n",
    "cNorm = colors.LogNorm(vmin=3e-3, vmax=3e1) #re-wrapping normalization\n",
    "\n",
    "scalarMap = cm.ScalarMappable(norm=cNorm, cmap=plt.cm.get_cmap('plasma_r'))\n",
    "\n",
    "galaxy_detected.plot(\n",
    "    kind='scatter', \n",
    "    x='Frequency', \n",
    "    y='Amplitude',  \n",
    "    marker = '.',\n",
    "    s = 2,\n",
    "    c = scalarMap.to_rgba(np.array(galaxy_detected['CDL'])),\n",
    "    ax = ax);\n",
    "\n",
    "ax.grid()\n",
    "plt.xlabel('Frequency [Hz]',fontsize=fontSize)\n",
    "plt.xticks(fontsize=fontSize)\n",
    "plt.ylabel('Strain Amplitude',fontsize=fontSize)\n",
    "plt.yticks(fontsize=fontSize)\n",
    "\n",
    "f = np.logspace(-4,0,512)\n",
    "inst = metrics.makeSensitivity(f,model)\n",
    "ax.plot(f,np.sqrt(inst/(4*constants.year)), color='k',linestyle = '--')\n",
    "\n",
    "ax.legend(['%s Sensitivity' % model['label'],'Detected UCBs'],fontsize=fontSize)\n",
    "\n",
    "cbar = fig.colorbar(scalarMap)\n",
    "cbar.set_label('CDL [deg]',fontsize=fontSize)\n",
    "cbar.ax.tick_params(labelsize=fontSize)\n",
    "fig.savefig('../plots/%s_cdl.png' % model['label'])"
   ]
  },
  {
   "cell_type": "markdown",
   "id": "cd407ed6-931b-415e-bfa0-b296eba7f8aa",
   "metadata": {},
   "source": [
    "## Make the all-sky Image"
   ]
  },
  {
   "cell_type": "code",
   "execution_count": null,
   "id": "211a75b9-80a1-4956-ac98-90bcf3ca2c87",
   "metadata": {},
   "outputs": [],
   "source": [
    "# convert the sources to galactic coordinates and rotate to place galactic center at longitude = 0 with extents -180,180 \n",
    "convert_ecliptic_to_galactic(galaxy_detected)\n",
    "all_sources_left = galaxy_detected[galaxy_detected['Galactic Longitude']<=180].copy()\n",
    "all_sources_right = galaxy_detected[galaxy_detected['Galactic Longitude']>180].copy()\n",
    "lon_rot = np.array(all_sources_right['Galactic Longitude'])-360\n",
    "all_sources_right.loc[:,'Galactic Longitude'] = lon_rot\n",
    "all_sources = pd.concat((all_sources_right,all_sources_left))\n",
    "all_sources.hist(column='Galactic Longitude',bins=100)"
   ]
  },
  {
   "cell_type": "code",
   "execution_count": null,
   "id": "7a8d7330-9b7b-4253-b318-ae47e5ac4532",
   "metadata": {},
   "outputs": [],
   "source": [
    "# make a super ensemble\n",
    "super_ensemble = falseColorGW.makeSuperEnsemble(all_sources,cdlColName = 'CDL')\n",
    "super_ensemble.describe()"
   ]
  },
  {
   "cell_type": "code",
   "execution_count": null,
   "id": "5b3e1a0e-0736-43c3-8c24-4b043d0c15b8",
   "metadata": {},
   "outputs": [],
   "source": [
    "# make the spectrum as number of sources\n",
    "fmax = 12e-3\n",
    "cmap = plt.get_cmap('gist_rainbow')\n",
    "super_ensemble,f_bins,fmap = falseColorGW.makeGWluminosity(super_ensemble,fmax=fmax)\n",
    "\n",
    "fig, ax = plt.subplots(1,1,figsize=(10,8),dpi=100)\n",
    "def scale_x(tick_val, tick_pos):\n",
    "    tmp = tick_val*1e3\n",
    "    return('%1.0f' % tmp)\n",
    "\n",
    "def scale_y(tick_val, tick_pos):\n",
    "    tmp = tick_val/1e3\n",
    "    return('%2.0f' % tmp)\n",
    "\n",
    "ax.xaxis.set_major_formatter(scale_x)\n",
    "ax.yaxis.set_major_formatter(scale_y)\n",
    "\n",
    "binvals, bins, patches = ax.hist(np.array(super_ensemble['Frequency']),bins=f_bins)\n",
    "bin_centers = 0.5 * (bins[:-1] + bins[1:])\n",
    "\n",
    "for x, p in zip(bin_centers, patches):\n",
    "    p.set_facecolor(cmap(x/fmax))\n",
    "ax.grid(True)\n",
    "\n",
    "ax.set_xlim(0,fmax)\n",
    "ax.set_xlabel('Frequency [mHz]',fontsize=fontSize)\n",
    "plt.xticks(fontsize=fontSize)\n",
    "ax.set_ylabel('kCounts',fontsize=fontSize)\n",
    "plt.yticks(fontsize=fontSize)\n",
    "\n",
    "fig.savefig('../plots/%s_counts.png' % model['label'])\n",
    "\n",
    "\n",
    "\n",
    "    "
   ]
  },
  {
   "cell_type": "code",
   "execution_count": null,
   "id": "4511ecc4-b065-4427-b982-439899ee178f",
   "metadata": {},
   "outputs": [],
   "source": [
    "fig, ax = plt.subplots(1,1,figsize=(10,8),dpi=100)\n",
    "\n",
    "binvals, bins, patches = ax.hist(np.array(super_ensemble['Frequency']),bins=f_bins,weights=super_ensemble['Power'])\n",
    "\n",
    "def scale_x(tick_val,tick_pos):\n",
    "    tmp = tick_val*1e3\n",
    "    return('%1.0f' % tmp)\n",
    "\n",
    "def scale_y(tick_val,tick_pos):\n",
    "    tmp = tick_val/np.max(binvals)\n",
    "    return('%1.1f' % tmp)\n",
    "\n",
    "ax.xaxis.set_major_formatter(scale_x)\n",
    "ax.yaxis.set_major_formatter(scale_y)\n",
    "\n",
    "bin_centers = 0.5 * (bins[:-1] + bins[1:])    \n",
    "\n",
    "for x, p in zip(bin_centers, patches):\n",
    "    p.set_facecolor(cmap(x/fmax))\n",
    "ax.grid(True)\n",
    "ax.set_xlim(0,fmax)\n",
    "ax.set_xlabel('Frequency [mHz]',fontsize=fontSize)\n",
    "plt.xticks(fontsize=fontSize)\n",
    "ax.set_ylim(0,np.max(binvals))\n",
    "ax.set_ylabel('Relative Intensity',fontsize=fontSize)\n",
    "plt.yticks(fontsize=fontSize)\n",
    "\n",
    "fig.savefig('../plots/%s_intensity.png' % model['label'])"
   ]
  },
  {
   "cell_type": "code",
   "execution_count": null,
   "id": "b22683ac-59f4-484f-a4bd-156146733ada",
   "metadata": {},
   "outputs": [],
   "source": [
    "# Make the image\n",
    "gwimage = falseColorGW.makeGWimage(super_ensemble,fmap, skyBins = [512,1024])"
   ]
  },
  {
   "cell_type": "code",
   "execution_count": null,
   "id": "62303c5d-efd7-480c-b86b-53572fa241df",
   "metadata": {},
   "outputs": [],
   "source": [
    "# Plot the Image\n",
    "fig, ax = plt.subplots(1,1,figsize=(16,10),dpi=200)\n",
    "ax.imshow(gwimage,extent=[-180,180,-90,90])\n",
    "ax.set_ylabel('Galactic Latitude [deg]',fontsize=fontSize)\n",
    "plt.xticks(fontsize=fontSize)\n",
    "ax.set_xlabel('Galactic Longitude [deg]',fontsize=fontSize)\n",
    "plt.yticks(fontsize=fontSize)\n",
    "fig.savefig('../plots/%s_all_sky.png' % model['label'])\n",
    "\n"
   ]
  },
  {
   "cell_type": "code",
   "execution_count": null,
   "id": "6df9c63d-a792-45e7-968d-7ee9bad34c44",
   "metadata": {},
   "outputs": [],
   "source": [
    "# plot the RGB histogram\n",
    "fig, ax = plt.subplots(1,1,figsize=(10,8))\n",
    "for idx, color, alpha  in zip(range(0,3), ['red','green','blue'],np.linspace(1,0.3,3)) :\n",
    "    ftmp = gwimage[:,:,idx].ravel()\n",
    "    ax.hist((ftmp[ftmp > 0]),color=color,log=True,bins=100,alpha=alpha)\n",
    "\n",
    "ax.grid(True)\n",
    "ax.set_ylabel('Log Counts',fontsize=fontSize)\n",
    "plt.xticks(fontsize=fontSize)\n",
    "ax.set_xlabel('Log Intensity',fontsize=fontSize)\n",
    "plt.yticks(fontsize=fontSize)\n",
    "fig.savefig('../plots/%s_RGB_histogram.png' % model['label'])\n"
   ]
  },
  {
   "cell_type": "markdown",
   "id": "ab81b847-e272-4ea2-b121-aba1d5bf20fa",
   "metadata": {},
   "source": [
    "### Make a Zoom-in Image"
   ]
  },
  {
   "cell_type": "code",
   "execution_count": null,
   "id": "e90e13bb-2501-498e-ba05-fedc3cce3fda",
   "metadata": {},
   "outputs": [],
   "source": [
    "plotRange = [-10,10,-10,10]\n",
    "\n",
    "zoom_super_ensemble = super_ensemble[(super_ensemble['Galactic Longitude']>=plotRange[0]) & (super_ensemble['Galactic Longitude']<=plotRange[1]) & (super_ensemble['Galactic Latitude']>=plotRange[2]) & (super_ensemble['Galactic Latitude']<=plotRange[3])]\n",
    "zoom_super_ensemble.describe()"
   ]
  },
  {
   "cell_type": "code",
   "execution_count": null,
   "id": "0e33aa64-2528-487c-af8c-185e91fd578c",
   "metadata": {},
   "outputs": [],
   "source": [
    "# Make the image\n",
    "zoom_super_ensemble,f_bins,fmap = falseColorGW.makeGWluminosity(zoom_super_ensemble,fmax=fmax)\n",
    "zoom_gwimage = falseColorGW.makeGWimage(zoom_super_ensemble,fmap, skyRange = plotRange, skyBins = [512,512])"
   ]
  },
  {
   "cell_type": "code",
   "execution_count": null,
   "id": "a32fe2fe-bda0-4d97-a5b4-7d4c1504f0d2",
   "metadata": {},
   "outputs": [],
   "source": [
    "# Plot the Image\n",
    "fig, ax = plt.subplots(1,1,figsize=(12,12))\n",
    "ax.imshow(zoom_gwimage,extent = plotRange)\n",
    "ax.set_ylabel('Galactic Latitude [deg]',fontsize=fontSize)\n",
    "plt.xticks(fontsize=fontSize)\n",
    "ax.set_xlabel('Galactic Longitude [deg]',fontsize=fontSize)\n",
    "plt.yticks(fontsize=fontSize)\n",
    "fig.savefig('../plots/%s_zoom.png' % model['label']) "
   ]
  },
  {
   "cell_type": "code",
   "execution_count": null,
   "id": "88f88d7b-ec35-4691-88ae-36df95f4b0fa",
   "metadata": {},
   "outputs": [],
   "source": []
  }
 ],
 "metadata": {
  "kernelspec": {
   "display_name": "Python 3",
   "language": "python",
   "name": "python3"
  },
  "language_info": {
   "codemirror_mode": {
    "name": "ipython",
    "version": 3
   },
   "file_extension": ".py",
   "mimetype": "text/x-python",
   "name": "python",
   "nbconvert_exporter": "python",
   "pygments_lexer": "ipython3",
   "version": "3.9.2"
  }
 },
 "nbformat": 4,
 "nbformat_minor": 5
}
